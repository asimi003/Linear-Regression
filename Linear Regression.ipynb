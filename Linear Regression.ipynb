{
 "cells": [
  {
   "cell_type": "markdown",
   "metadata": {
    "colab_type": "text",
    "id": "tz5MYp2mgc1O"
   },
   "source": [
    "# Linear Regression\n",
    "\n",
    "In 1991, Orley Ashenfelter, an economics professor at Princeton University, stunned the wine world with a bold prediction. He predicted that the 1990 vintage of Bordeaux wines would be the \"wine of the century,'' even better than the prized 1961 vintage. Furthermore, he made this prediction without tasting even a drop of the wine, which had been placed in oak barrels just months earlier.\n",
    "\n",
    "How did Ashenfelter predict the quality of the wine without tasting it? He used data on past vintages to come up with the following formula for predicting wine quality:\n",
    "\n",
    "\\begin{align}\n",
    "    \\widehat{\\text{wine quality}} = -7.8 &+ 0.62 \\cdot (\\text{average summer temperature}) \\nonumber \\\\\n",
    "    &+ 0.0012 \\cdot (\\text{winter rainfall}) \\nonumber \\\\\n",
    "    &- 0.0037 \\cdot (\\text{harvest rainfall}) \\nonumber \\\\\n",
    "    &+ 0.024 \\cdot (\\text{age of the wine})\n",
    "    \\label{eq:ashenfelter}\n",
    "\\end{align}\n",
    "\n",
    "The variable on the left-hand side of this expression, wine quality, is what we are trying to predict and is called \n",
    "the _target_ (or _label_). (The hat symbol over  \"wine quality\" indicates that the values are predicted instead of observed.) The variables on the right-hand side, such as \"average summer temperature\" and \"harvest rainfall,\" are called _features_ and are the inputs used to predict the target. Although Ashenfelter had no way of knowing the quality of the 1990 wines, he did have the values of the features in 1990, so to make a prediction, all he had to do was plug those values into the equation above. In this way, he arrived at the following prediction for the quality of the 1990 Bordeaux, after they had been aged for 31 years (like the 1961 Bordeaux had been at the time):\n",
    "\n",
    "\\begin{align}\n",
    "    -7.8 &+ 0.62 \\cdot (18.7) \\nonumber \\\\\n",
    "    &+ 0.0012 \\cdot (468) \\nonumber \\\\\n",
    "    &- 0.0037 \\cdot (80) \\nonumber \\\\\n",
    "    &+ 0.024 \\cdot (31) = 4.8.  \\label{eq:ashenfelter_1990}\n",
    "\\end{align}\n",
    "\n",
    "For comparison, the quality of the prized 1961 vintage was 4.6.\n",
    "\n",
    "You can imagine the uproar from wine experts, who had spent years refining their palates to distinguish good wines from bad. Robert Parker, the most influential wine critic in America, called Ashenfelter's predictions \"ludicrous and absurd\", comparing him to a \"movie critic who never goes to see the movie but tells you how good it is based on the actors and the director.\" It did not help that Ashenfelter had also openly challenged Parker's rating of the 1986 Bordeaux. Parker thought they would be \"very good and sometimes exceptional.\" But according to Ashenfelter's formula, the low summer temperatures and high harvest rainfalls in 1986 doomed the vintage.\n",
    "\n",
    "Who was right? Thirty years later, Robert Parker ranks the 1986 Bordeaux well, but the 1990 Bordeaux wines are exceptional, with three of the six wines scoring a 98 on a 100-point scale.\n",
    "\n",
    "We will reproduce Ashenfelter's analysis, which is an example of _machine learning_. Machine learning is concerned with the general problem of how to use data to make predictions. The process of producing a model like Ashenfelter's from data is called _fitting_ a model (although the terms _training_ or _learning_ are also used), and the data that is used to fit the model is the\n",
    "_training data_."
   ]
  },
  {
   "cell_type": "markdown",
   "metadata": {
    "colab_type": "text",
    "id": "kBuD03vngc12"
   },
   "source": [
    "## Getting Familiar with the Data\n",
    "\n",
    "First, we read in the historical data that Ashenfelter used. The observational unit in this data set is the vintage, so we index this `DataFrame` by the year."
   ]
  },
  {
   "cell_type": "code",
   "execution_count": 9,
   "metadata": {
    "colab": {},
    "colab_type": "code",
    "id": "80drpebdgc14",
    "outputId": "1c56a82c-8fd1-47b8-8afe-0a503bdf03e3"
   },
   "outputs": [
    {
     "data": {
      "text/html": [
       "<div>\n",
       "<style scoped>\n",
       "    .dataframe tbody tr th:only-of-type {\n",
       "        vertical-align: middle;\n",
       "    }\n",
       "\n",
       "    .dataframe tbody tr th {\n",
       "        vertical-align: top;\n",
       "    }\n",
       "\n",
       "    .dataframe thead th {\n",
       "        text-align: right;\n",
       "    }\n",
       "</style>\n",
       "<table border=\"1\" class=\"dataframe\">\n",
       "  <thead>\n",
       "    <tr style=\"text-align: right;\">\n",
       "      <th></th>\n",
       "      <th>price</th>\n",
       "      <th>summer</th>\n",
       "      <th>har</th>\n",
       "      <th>sep</th>\n",
       "      <th>win</th>\n",
       "      <th>age</th>\n",
       "    </tr>\n",
       "    <tr>\n",
       "      <th>year</th>\n",
       "      <th></th>\n",
       "      <th></th>\n",
       "      <th></th>\n",
       "      <th></th>\n",
       "      <th></th>\n",
       "      <th></th>\n",
       "    </tr>\n",
       "  </thead>\n",
       "  <tbody>\n",
       "    <tr>\n",
       "      <th>1952</th>\n",
       "      <td>37.0</td>\n",
       "      <td>17.1</td>\n",
       "      <td>160</td>\n",
       "      <td>14.3</td>\n",
       "      <td>600</td>\n",
       "      <td>40</td>\n",
       "    </tr>\n",
       "    <tr>\n",
       "      <th>1953</th>\n",
       "      <td>63.0</td>\n",
       "      <td>16.7</td>\n",
       "      <td>80</td>\n",
       "      <td>17.3</td>\n",
       "      <td>690</td>\n",
       "      <td>39</td>\n",
       "    </tr>\n",
       "    <tr>\n",
       "      <th>1955</th>\n",
       "      <td>45.0</td>\n",
       "      <td>17.1</td>\n",
       "      <td>130</td>\n",
       "      <td>16.8</td>\n",
       "      <td>502</td>\n",
       "      <td>37</td>\n",
       "    </tr>\n",
       "    <tr>\n",
       "      <th>1957</th>\n",
       "      <td>22.0</td>\n",
       "      <td>16.1</td>\n",
       "      <td>110</td>\n",
       "      <td>16.2</td>\n",
       "      <td>420</td>\n",
       "      <td>35</td>\n",
       "    </tr>\n",
       "    <tr>\n",
       "      <th>1958</th>\n",
       "      <td>18.0</td>\n",
       "      <td>16.4</td>\n",
       "      <td>187</td>\n",
       "      <td>19.1</td>\n",
       "      <td>582</td>\n",
       "      <td>34</td>\n",
       "    </tr>\n",
       "  </tbody>\n",
       "</table>\n",
       "</div>"
      ],
      "text/plain": [
       "      price  summer  har   sep  win  age\n",
       "year                                    \n",
       "1952   37.0    17.1  160  14.3  600   40\n",
       "1953   63.0    16.7   80  17.3  690   39\n",
       "1955   45.0    17.1  130  16.8  502   37\n",
       "1957   22.0    16.1  110  16.2  420   35\n",
       "1958   18.0    16.4  187  19.1  582   34"
      ]
     },
     "execution_count": 9,
     "metadata": {},
     "output_type": "execute_result"
    }
   ],
   "source": [
    "import pandas as pd\n",
    "data_dir = \"\"\n",
    "bordeaux_df = pd.read_csv(\"bordeaux.csv\",index_col=\"year\")\n",
    "bordeaux_df.head()"
   ]
  },
  {
   "cell_type": "markdown",
   "metadata": {
    "colab_type": "text",
    "id": "24fRMKkZgc1_"
   },
   "source": [
    "The **price** column is in 1981 dollars, normalized so that the 1961 Bordeaux has a price of 100. Price is a reasonable proxy for the quality of the wine. The **summer** column contains the average summer temperature (in degrees Celsius), while the **har** and **win** columns contain the harvest and winter rainfalls (in millimeters). The **sep** column stores the average temperature in September, which Ashenfelter did not include in his model."
   ]
  },
  {
   "cell_type": "markdown",
   "metadata": {
    "colab_type": "text",
    "id": "vL21wyW0gc2B"
   },
   "source": [
    "Let us also take a peek at the end of this `DataFrame`."
   ]
  },
  {
   "cell_type": "code",
   "execution_count": 10,
   "metadata": {
    "colab": {},
    "colab_type": "code",
    "id": "pY5XHupXgc2C",
    "outputId": "62270b0a-46b3-4dc8-b1c8-d4affcf02be0"
   },
   "outputs": [
    {
     "data": {
      "text/html": [
       "<div>\n",
       "<style scoped>\n",
       "    .dataframe tbody tr th:only-of-type {\n",
       "        vertical-align: middle;\n",
       "    }\n",
       "\n",
       "    .dataframe tbody tr th {\n",
       "        vertical-align: top;\n",
       "    }\n",
       "\n",
       "    .dataframe thead th {\n",
       "        text-align: right;\n",
       "    }\n",
       "</style>\n",
       "<table border=\"1\" class=\"dataframe\">\n",
       "  <thead>\n",
       "    <tr style=\"text-align: right;\">\n",
       "      <th></th>\n",
       "      <th>price</th>\n",
       "      <th>summer</th>\n",
       "      <th>har</th>\n",
       "      <th>sep</th>\n",
       "      <th>win</th>\n",
       "      <th>age</th>\n",
       "    </tr>\n",
       "    <tr>\n",
       "      <th>year</th>\n",
       "      <th></th>\n",
       "      <th></th>\n",
       "      <th></th>\n",
       "      <th></th>\n",
       "      <th></th>\n",
       "      <th></th>\n",
       "    </tr>\n",
       "  </thead>\n",
       "  <tbody>\n",
       "    <tr>\n",
       "      <th>1987</th>\n",
       "      <td>NaN</td>\n",
       "      <td>17.0</td>\n",
       "      <td>115</td>\n",
       "      <td>18.9</td>\n",
       "      <td>452</td>\n",
       "      <td>5</td>\n",
       "    </tr>\n",
       "    <tr>\n",
       "      <th>1988</th>\n",
       "      <td>NaN</td>\n",
       "      <td>17.1</td>\n",
       "      <td>59</td>\n",
       "      <td>16.8</td>\n",
       "      <td>808</td>\n",
       "      <td>4</td>\n",
       "    </tr>\n",
       "    <tr>\n",
       "      <th>1989</th>\n",
       "      <td>NaN</td>\n",
       "      <td>18.6</td>\n",
       "      <td>82</td>\n",
       "      <td>18.4</td>\n",
       "      <td>443</td>\n",
       "      <td>3</td>\n",
       "    </tr>\n",
       "    <tr>\n",
       "      <th>1990</th>\n",
       "      <td>NaN</td>\n",
       "      <td>18.7</td>\n",
       "      <td>80</td>\n",
       "      <td>19.3</td>\n",
       "      <td>468</td>\n",
       "      <td>2</td>\n",
       "    </tr>\n",
       "    <tr>\n",
       "      <th>1991</th>\n",
       "      <td>NaN</td>\n",
       "      <td>17.7</td>\n",
       "      <td>183</td>\n",
       "      <td>20.4</td>\n",
       "      <td>570</td>\n",
       "      <td>1</td>\n",
       "    </tr>\n",
       "  </tbody>\n",
       "</table>\n",
       "</div>"
      ],
      "text/plain": [
       "      price  summer  har   sep  win  age\n",
       "year                                    \n",
       "1987    NaN    17.0  115  18.9  452    5\n",
       "1988    NaN    17.1   59  16.8  808    4\n",
       "1989    NaN    18.6   82  18.4  443    3\n",
       "1990    NaN    18.7   80  19.3  468    2\n",
       "1991    NaN    17.7  183  20.4  570    1"
      ]
     },
     "execution_count": 10,
     "metadata": {},
     "output_type": "execute_result"
    }
   ],
   "source": [
    "bordeaux_df.tail()"
   ]
  },
  {
   "cell_type": "markdown",
   "metadata": {
    "colab_type": "text",
    "id": "28uXMx4kgc2H"
   },
   "source": [
    "We see that the `DataFrame` also contains data for vintages where the price is missing (including 1990, the vintage for which Ashenfelter made his prediction). In fact, prices are only available up to 1980, as it takes several years before wine quality can be estimated with much reliability), so only part of the `DataFrame` can be used for training. The rest of the data, where the features are known but the target is not, is called the _test data_. Machine learning fits a model to the training data, which is then used to predict the targets in the test data. The following code splits the `DataFrame` into the training and test sets."
   ]
  },
  {
   "cell_type": "code",
   "execution_count": 11,
   "metadata": {
    "colab": {},
    "colab_type": "code",
    "id": "BQ8xffEcgc2J"
   },
   "outputs": [],
   "source": [
    "bordeaux_train = bordeaux_df.loc[:1980].copy()\n",
    "bordeaux_test = bordeaux_df.loc[1981:].copy()"
   ]
  },
  {
   "cell_type": "markdown",
   "metadata": {
    "colab_type": "text",
    "id": "TXbNNzWRgc2O"
   },
   "source": [
    "## Warm-Up: A Model with One Feature\n",
    "\n",
    "Before fitting a model that uses all of the features, we first consider a model that uses only the age of the wine to predict the price. That is, we fit a model of the form\n",
    "\\begin{equation}\n",
    "    \\widehat{\\text{price}} = b + c \\cdot \\text{age},\n",
    "    \\label{eq:simple_linear_regression}\n",
    "\\end{equation}\n",
    "where $b$ and $c$ are numbers that we will learn from the training data. Models of the form above are called _linear regression_ models. (The way in which this model is \"linear\" will become apparent in a moment.) This model only involves two variables, **age** and **price**, so we can visualize the data easily using a scatterplot (see Chapter 3)."
   ]
  },
  {
   "cell_type": "code",
   "execution_count": 12,
   "metadata": {
    "colab": {},
    "colab_type": "code",
    "id": "v3KbYMldgc2Q",
    "outputId": "3f775bc0-63bb-44d3-9e53-47e655bd3782"
   },
   "outputs": [
    {
     "data": {
      "text/plain": [
       "<AxesSubplot:xlabel='age', ylabel='price'>"
      ]
     },
     "execution_count": 12,
     "metadata": {},
     "output_type": "execute_result"
    },
    {
     "data": {
      "image/png": "[encoded data removed]",
      "text/plain": [
       "<Figure size 432x288 with 1 Axes>"
      ]
     },
     "metadata": {
      "needs_background": "light"
     },
     "output_type": "display_data"
    }
   ],
   "source": [
    "bordeaux_train.plot.scatter(x=\"age\", y=\"price\")"
   ]
  },
  {
   "cell_type": "markdown",
   "metadata": {
    "colab_type": "text",
    "id": "ejFCGYtlgc2Y"
   },
   "source": [
    "Now, to fit models like the above to the training data, we use the scikit-learn package, which was used in Chapter 3 for transforming variables and calculating distances. However, its main purpose is to fit machine learning models, including linear regression. All models in scikit-learn are used in essentially the same way, following the three-step pattern:\n",
    "\n",
    "1. Declare the model.\n",
    "2. Fit the model to training data.\n",
    "3. Use the model to predict on test data.\n",
    "\n",
    "In the case of the linear regression model above, the code is as follows."
   ]
  },
  {
   "cell_type": "code",
   "execution_count": 13,
   "metadata": {
    "colab": {},
    "colab_type": "code",
    "id": "M5tdMqZugc2b",
    "outputId": "909360fa-5e8a-4c1c-db2b-4ac2eb809869"
   },
   "outputs": [
    {
     "data": {
      "text/plain": [
       "array([12.41648163, 11.26046336, 10.1044451 ,  8.94842683,  7.79240856,\n",
       "        6.6363903 ,  5.48037203,  4.32435376,  3.1683355 ,  2.01231723,\n",
       "        0.85629897])"
      ]
     },
     "execution_count": 13,
     "metadata": {},
     "output_type": "execute_result"
    }
   ],
   "source": [
    "from sklearn.linear_model import LinearRegression\n",
    "\n",
    "X_train = bordeaux_train[[\"age\"]]\n",
    "X_test = bordeaux_test[[\"age\"]]\n",
    "y_train = bordeaux_train[\"price\"]\n",
    "\n",
    "model = LinearRegression()\n",
    "model.fit(X=X_train, y=y_train)\n",
    "model.predict(X=X_test)"
   ]
  },
  {
   "cell_type": "markdown",
   "metadata": {
    "colab_type": "text",
    "id": "vXNLm4DHgc2l"
   },
   "source": [
    "The parameters of `.fit()` are `X` for the features and `y` for the targets, which are assumed to be 2-D and 1-D arrays of numbers, respectively. So even when there is only one feature, as in this case, we still need to supply a 2-D array with one column---hence, the double brackets around `\"age\"` when defining `X_train` and `X_test`.\n",
    "\n",
    "By contrast, `.predict()` only has one parameter, `X` for the features. That is because its job is to predict the targets `y` for the given features. Note that the predictions will always be returned in the form of `numpy` arrays, no matter the type of the input data---so although we supplied `pandas` objects, `sklearn` still returned the predicted values as `numpy` arrays. The predictions are in the same order as the rows of `X`."
   ]
  },
  {
   "cell_type": "markdown",
   "metadata": {
    "colab_type": "text",
    "id": "XFtfFRqRgc2v"
   },
   "source": [
    "Because there are only two variables involved, the model above is a rare example of a machine learning model we can visualize. A general way to do this is to generate a fine grid of `X` values using `np.linspace()` and call `model.predict()` to get the predicted target at each of these values. We can then use these predictions to draw a curve which depicts the predicted value of `y` at each value of `X`. In the code below, we put the predictions in a `pandas` `Series`, indexed by the `X` values, and then call `.plot.line()`."
   ]
  },
  {
   "cell_type": "code",
   "execution_count": 22,
   "metadata": {
    "colab": {},
    "colab_type": "code",
    "id": "imqK17uOgc20",
    "outputId": "84d1776a-f644-465e-c047-87e8e2c6b54f"
   },
   "outputs": [
    {
     "data": {
      "text/plain": [
       "<AxesSubplot:xlabel='age', ylabel='price'>"
      ]
     },
     "execution_count": 22,
     "metadata": {},
     "output_type": "execute_result"
    },
    {
     "data": {
      "image/png": "[encoded data removed]",
      "text/plain": [
       "<Figure size 432x288 with 1 Axes>"
      ]
     },
     "metadata": {
      "needs_background": "light"
     },
     "output_type": "display_data"
    }
   ],
   "source": [
    "import numpy as np\n",
    "\n",
    "X_new = pd.DataFrame()\n",
    "# create a sequence of 200 evenly spaced numbers from 10 to 41\n",
    "X_new[\"age\"] = np.linspace(10, 41, num=100)\n",
    "\n",
    "# create a Series out of the predicted values\n",
    "# (trailing underscore indicates fitted values)\n",
    "y_new_ = pd.Series(\n",
    "    model.predict(X_new), # y values in Series.plot.line()\n",
    "    index=X_new[\"age\"]    # x values in Series.plot.line()\n",
    ")\n",
    "\n",
    "# plot the data, then the model\n",
    "bordeaux_train.plot.scatter(x=\"age\", y=\"price\")\n",
    "y_new_.plot.line()"
   ]
  },
  {
   "cell_type": "markdown",
   "metadata": {
    "colab_type": "text",
    "id": "4I42T5aGgc3E"
   },
   "source": [
    "The resulting plot is shown above. Notice that the curve is a straight line, which is why this model is called  _linear_ regression. In hindsight, this is obvious from the model equation: $b$ is simply the intercept and $c$ the slope of this line. All linear regression does is choose the intercept and slope to minimize the total squared distance between the points and the line---that is, between the observed and predicted prices. In mathematical terms, $b$ and $c$ are chosen to minimize\n",
    "\\begin{align}\n",
    "    & \\text{sum of } (\\text{price} - \\widehat{\\text{price}})^2 &= & & \\text{sum of } (\\text{price} - (b + c\\cdot \\text{age}))^2 \\\\\n",
    "    & \\text{over training data } &\\phantom{=} & & \\text{ over training data}.\n",
    "\\end{align}\n",
    "Since `sklearn` does this optimization for us, it is not necessary to understand the details of this process to extract useful insights out of linear regression. However, the math is explained in the appendix of this lesson for those who are curious."
   ]
  },
  {
   "cell_type": "markdown",
   "metadata": {
    "colab_type": "text",
    "id": "HjyNFyiNgc3J"
   },
   "source": [
    "## What to Do about Nonlinearity\n",
    "\n",
    "One question is whether the relationship between age and price is truly linear. In the graph above, it seems that the points deviate more from the line when prices are high than when they are low. To correct this, we need to spread out low prices and rein in high prices. Previously, we learned that this can be achieved by applying a log transformation to the prices. Let's add a column to the training data for the log-price."
   ]
  },
  {
   "cell_type": "code",
   "execution_count": null,
   "metadata": {
    "colab": {},
    "colab_type": "code",
    "id": "OEdVbxqugc3O"
   },
   "outputs": [],
   "source": [
    "bordeaux_train[\"log(price)\"] = np.log(bordeaux_train[\"price\"])"
   ]
  },
  {
   "cell_type": "markdown",
   "metadata": {
    "colab_type": "text",
    "id": "DKsRIkhdgc3V"
   },
   "source": [
    "Now, we will fit a linear regression model to predict this new target. That is, in contrast to the previous model, we now fit the model \n",
    "\\begin{equation}\n",
    "    \\widehat{\\text{log(price)}} = b + c \\cdot \\text{age},\n",
    "    \\label{eq:simple_linear_regression_log}\n",
    "\\end{equation}\n",
    "where $b$ and $c$ are chosen to minimize \n",
    "\\begin{equation}\n",
    "    \\text{sum of } (\\text{log(price)} - \\widehat{\\text{log(price)}})^2 \\text{ over training data}\n",
    "\\end{equation}\n",
    "over the training data. The code below fits this model."
   ]
  },
  {
   "cell_type": "code",
   "execution_count": null,
   "metadata": {
    "colab": {},
    "colab_type": "code",
    "id": "leZ3mYykgc3W",
    "outputId": "544e62b1-877a-4d17-9d70-2ce15484fce1"
   },
   "outputs": [
    {
     "data": {
      "text/plain": [
       "<matplotlib.axes._subplots.AxesSubplot at 0x1a219e5710>"
      ]
     },
     "execution_count": 9,
     "metadata": {
      "tags": []
     },
     "output_type": "execute_result"
    },
    {
     "data": {
      "image/png": "[encoded data removed]",
      "text/plain": [
       "<Figure size 432x288 with 1 Axes>"
      ]
     },
     "metadata": {
      "needs_background": "light",
      "tags": []
     },
     "output_type": "display_data"
    }
   ],
   "source": [
    "log_price_model = LinearRegression()\n",
    "log_price_model.fit(X=bordeaux_train[[\"age\"]],\n",
    "                    y=bordeaux_train[\"log(price)\"])\n",
    "\n",
    "X_new = pd.DataFrame()\n",
    "X_new[\"age\"] = np.linspace(10, 41, num=200)\n",
    "y_new_ = pd.Series(\n",
    "    log_price_model.predict(X_new),\n",
    "    index=X_new[\"age\"]\n",
    ")\n",
    "    \n",
    "bordeaux_train.plot.scatter(x=\"age\", y=\"log(price)\")\n",
    "y_new_.plot.line()"
   ]
  },
  {
   "cell_type": "markdown",
   "metadata": {
    "colab_type": "text",
    "id": "nRPZ83ixgc3b"
   },
   "source": [
    "The points are more evenly spread out when the target is log-price instead of price. For this reason, Ashenfelter chose log-price to be the measure of \"wine quality\" in his linear regression model."
   ]
  },
  {
   "cell_type": "markdown",
   "metadata": {
    "colab_type": "text",
    "id": "27CMYtQLgc3d"
   },
   "source": [
    "## Fitting Ashenfelter's Model\n",
    "\n",
    "We are now ready to reproduce Ashenfelter's analysis. To do so, we will need to fit a linear regression model that predicts the log-price from the average summer temperature, winter rainfall, harvest rainfall, and the age of the wine. In other words, the model is of the form\n",
    "\\begin{align}\n",
    "    \\widehat{\\text{log(price)}} = b &+ c_1 \\cdot (\\text{average summer temperature}) \\nonumber \\\\\n",
    "    &+ c_2 \\cdot (\\text{winter rainfall}) \\nonumber \\\\\n",
    "    &+ c_3 \\cdot (\\text{harvest rainfall}) \\nonumber \\\\\n",
    "    &+ c_4 \\cdot (\\text{age of the wine}), \\label{eq:multiple_linear_regression}\n",
    "\\end{align}\n",
    "where $b, c_1, c_2, c_3, c_4$ are chosen to minimize \n",
    "\\begin{equation}\n",
    "    \\text{sum of } (\\text{log(price)} - \\widehat{\\text{log(price)}})^2 \\text{ over training data.}\n",
    "\\end{equation}\n",
    "This is still a _linear regression_ model, albeit a more complicated one.\n",
    "\n",
    "The code to fit this model is the natural extension of the code we wrote to fit the earlier models in this lesson. Instead of passing `bordeaux_train[[\"age\"]]` for `X`, we now supply a `DataFrame` containing all of the features we want to be in the model."
   ]
  },
  {
   "cell_type": "code",
   "execution_count": null,
   "metadata": {
    "colab": {},
    "colab_type": "code",
    "id": "I7gTVpC_gc3f",
    "outputId": "bf2153cf-0e34-4e16-cd3d-c35196ed5b84"
   },
   "outputs": [
    {
     "data": {
      "text/plain": [
       "LinearRegression(copy_X=True, fit_intercept=True, n_jobs=None,\n",
       "         normalize=False)"
      ]
     },
     "execution_count": 20,
     "metadata": {
      "tags": []
     },
     "output_type": "execute_result"
    }
   ],
   "source": [
    "ashen_model = LinearRegression()\n",
    "ashen_model.fit(\n",
    "    X=bordeaux_train[[\"summer\", \"win\", \"har\", \"age\"]],\n",
    "    y=bordeaux_train[\"log(price)\"]\n",
    ")"
   ]
  },
  {
   "cell_type": "markdown",
   "metadata": {
    "colab_type": "text",
    "id": "hE_Ke72dgc35"
   },
   "source": [
    "This model is much harder to visualize, since it involves five variables: four features, plus the target. Nevertheless, we can obtain predictions from it just as we did with the simpler models above. We just need to supply the values of all of the features in the model, in the same order as in the training data."
   ]
  },
  {
   "cell_type": "code",
   "execution_count": null,
   "metadata": {
    "colab": {},
    "colab_type": "code",
    "id": "VizNj96-gc36",
    "outputId": "7596fefc-59a1-42ca-fb78-995721a6096c"
   },
   "outputs": [
    {
     "data": {
      "text/plain": [
       "array([3.17926885, 3.4231464 , 3.71919787, 2.83391541, 3.48195778,\n",
       "       2.4330387 , 2.91879638, 3.5924235 , 3.97294747, 4.04789338,\n",
       "       3.14087609])"
      ]
     },
     "execution_count": 21,
     "metadata": {
      "tags": []
     },
     "output_type": "execute_result"
    }
   ],
   "source": [
    "ashen_model.predict(\n",
    "    X=bordeaux_test[[\"summer\", \"win\", \"har\", \"age\"]]\n",
    ")"
   ]
  },
  {
   "cell_type": "markdown",
   "metadata": {
    "colab_type": "text",
    "id": "yfpP96Nggc4C"
   },
   "source": [
    "## Communication Corner: Interpreting the Model\n",
    "\n",
    "Even though we cannot visualize Ashenfelter's model, we can still \n",
    "interpret the model by examining the values of the _intercept_ $b$ and the _coefficients_ $c_1, c_2, c_3, c_4$.\n",
    "\n",
    "The coefficients are saved in the `.coef_` attribute, after the model has been fitted. (As above, the trailing underscore in `.coef_` reminds us that these are fitted values.)"
   ]
  },
  {
   "cell_type": "code",
   "execution_count": null,
   "metadata": {
    "colab": {},
    "colab_type": "code",
    "id": "8SGCnIk_gc4E",
    "outputId": "51e681c9-35fd-450f-91f7-52ec8f69f75f"
   },
   "outputs": [
    {
     "data": {
      "text/plain": [
       "array([ 0.61871092,  0.00119721, -0.00374825,  0.02435187])"
      ]
     },
     "execution_count": 12,
     "metadata": {
      "tags": []
     },
     "output_type": "execute_result"
    }
   ],
   "source": [
    "ashen_model.coef_"
   ]
  },
  {
   "cell_type": "markdown",
   "metadata": {
    "colab_type": "text",
    "id": "CGVfEskHgc4L"
   },
   "source": [
    "These coefficients are in the same order as the columns of `X`. So $0.61871092$ is the coefficient for **summer**, $0.00119721$ the coefficient for **win**, and so on. If you compare these values with the model at the beginning of this lesson, you will see that they are exactly the coefficients that Ashenfelter obtained. \n",
    "\n",
    "A positive coefficient means that the predicted target _increases_ as that feature increases, while a negative coefficient means that it _decreases_ as that feature increases. Since **win** has a positive coefficient $(0.0012)$ and **har** has a negative coefficient $(-0.0037)$, we conclude from the model that Bordeaux wines tend to be best when winter rainfall is high and harvest rainfall is low.\n",
    "\n",
    "Another essential component of a linear regression model is the _intercept_, which is stored in the `.intercept_` attribute, separately from the coefficients."
   ]
  },
  {
   "cell_type": "code",
   "execution_count": null,
   "metadata": {
    "colab": {},
    "colab_type": "code",
    "id": "6oc0NmtLgc4M",
    "outputId": "a6f536e4-666b-482d-cbfc-26a52c44e404"
   },
   "outputs": [
    {
     "data": {
      "text/plain": [
       "-7.831137841446707"
      ]
     },
     "execution_count": 13,
     "metadata": {
      "tags": []
     },
     "output_type": "execute_result"
    }
   ],
   "source": [
    "ashen_model.intercept_"
   ]
  },
  {
   "cell_type": "markdown",
   "metadata": {
    "colab_type": "text",
    "id": "KxOtqiSdgc4Z"
   },
   "source": [
    "In principle, the intercept is the predicted value when all of the features are equal to $0$. However, this interpretation is often purely hypothetical, since it may be impossible for some features to be $0$. For example, to interpret the intercept of $-7.8$ in the model above, we would have to set **summer** equal to $0$. That is, we would have to imagine a summer in Bordeaux, France where the average temperature was $0^\\circ\\text{C}$ (i.e., freezing), which would be so catastrophic that the quality of red wine would be the least of our worries!"
   ]
  },
  {
   "cell_type": "markdown",
   "metadata": {
    "colab_type": "text",
    "id": "6dZ46xkKgc4b"
   },
   "source": [
    "# Exercises"
   ]
  },
  {
   "cell_type": "markdown",
   "metadata": {
    "colab_type": "text",
    "id": "4bF9YLPugc4k"
   },
   "source": []
  },
  {
   "cell_type": "markdown",
   "metadata": {
    "colab_type": "text",
    "id": "9qMHm1fOgc4l"
   },
   "source": [
    "_Exercises 1-3 ask you to fit linear regression models to the Ames housing data set (AmesHousing.txt ), which contains information about homes in Ames, Iowa._"
   ]
  },
  {
   "cell_type": "markdown",
   "metadata": {
    "colab_type": "text",
    "id": "auxey0fDgc4p"
   },
   "source": [
    "1\\. Fit a linear regression model that predicts the price of a home (**SalePrice**) using square footage (**Gr Liv Area**) as the only feature. Then, make a graph of the fitted model (this is possible because there is only one feature in this model). Do this the way we did it in the lesson, by creating a grid of `X` values and calling `model.predict()` on those `X` values."
   ]
  },
  {
   "cell_type": "code",
   "execution_count": 40,
   "metadata": {},
   "outputs": [
    {
     "data": {
      "text/html": [
       "<div>\n",
       "<style scoped>\n",
       "    .dataframe tbody tr th:only-of-type {\n",
       "        vertical-align: middle;\n",
       "    }\n",
       "\n",
       "    .dataframe tbody tr th {\n",
       "        vertical-align: top;\n",
       "    }\n",
       "\n",
       "    .dataframe thead th {\n",
       "        text-align: right;\n",
       "    }\n",
       "</style>\n",
       "<table border=\"1\" class=\"dataframe\">\n",
       "  <thead>\n",
       "    <tr style=\"text-align: right;\">\n",
       "      <th></th>\n",
       "      <th>Order</th>\n",
       "      <th>PID</th>\n",
       "      <th>MS SubClass</th>\n",
       "      <th>MS Zoning</th>\n",
       "      <th>Lot Frontage</th>\n",
       "      <th>Lot Area</th>\n",
       "      <th>Street</th>\n",
       "      <th>Alley</th>\n",
       "      <th>Lot Shape</th>\n",
       "      <th>Land Contour</th>\n",
       "      <th>...</th>\n",
       "      <th>Pool Area</th>\n",
       "      <th>Pool QC</th>\n",
       "      <th>Fence</th>\n",
       "      <th>Misc Feature</th>\n",
       "      <th>Misc Val</th>\n",
       "      <th>Mo Sold</th>\n",
       "      <th>Yr Sold</th>\n",
       "      <th>Sale Type</th>\n",
       "      <th>Sale Condition</th>\n",
       "      <th>SalePrice</th>\n",
       "    </tr>\n",
       "  </thead>\n",
       "  <tbody>\n",
       "    <tr>\n",
       "      <th>0</th>\n",
       "      <td>1</td>\n",
       "      <td>526301100</td>\n",
       "      <td>20</td>\n",
       "      <td>RL</td>\n",
       "      <td>141.0</td>\n",
       "      <td>31770</td>\n",
       "      <td>Pave</td>\n",
       "      <td>NaN</td>\n",
       "      <td>IR1</td>\n",
       "      <td>Lvl</td>\n",
       "      <td>...</td>\n",
       "      <td>0</td>\n",
       "      <td>NaN</td>\n",
       "      <td>NaN</td>\n",
       "      <td>NaN</td>\n",
       "      <td>0</td>\n",
       "      <td>5</td>\n",
       "      <td>2010</td>\n",
       "      <td>WD</td>\n",
       "      <td>Normal</td>\n",
       "      <td>215000</td>\n",
       "    </tr>\n",
       "    <tr>\n",
       "      <th>1</th>\n",
       "      <td>2</td>\n",
       "      <td>526350040</td>\n",
       "      <td>20</td>\n",
       "      <td>RH</td>\n",
       "      <td>80.0</td>\n",
       "      <td>11622</td>\n",
       "      <td>Pave</td>\n",
       "      <td>NaN</td>\n",
       "      <td>Reg</td>\n",
       "      <td>Lvl</td>\n",
       "      <td>...</td>\n",
       "      <td>0</td>\n",
       "      <td>NaN</td>\n",
       "      <td>MnPrv</td>\n",
       "      <td>NaN</td>\n",
       "      <td>0</td>\n",
       "      <td>6</td>\n",
       "      <td>2010</td>\n",
       "      <td>WD</td>\n",
       "      <td>Normal</td>\n",
       "      <td>105000</td>\n",
       "    </tr>\n",
       "    <tr>\n",
       "      <th>2</th>\n",
       "      <td>3</td>\n",
       "      <td>526351010</td>\n",
       "      <td>20</td>\n",
       "      <td>RL</td>\n",
       "      <td>81.0</td>\n",
       "      <td>14267</td>\n",
       "      <td>Pave</td>\n",
       "      <td>NaN</td>\n",
       "      <td>IR1</td>\n",
       "      <td>Lvl</td>\n",
       "      <td>...</td>\n",
       "      <td>0</td>\n",
       "      <td>NaN</td>\n",
       "      <td>NaN</td>\n",
       "      <td>Gar2</td>\n",
       "      <td>12500</td>\n",
       "      <td>6</td>\n",
       "      <td>2010</td>\n",
       "      <td>WD</td>\n",
       "      <td>Normal</td>\n",
       "      <td>172000</td>\n",
       "    </tr>\n",
       "    <tr>\n",
       "      <th>3</th>\n",
       "      <td>4</td>\n",
       "      <td>526353030</td>\n",
       "      <td>20</td>\n",
       "      <td>RL</td>\n",
       "      <td>93.0</td>\n",
       "      <td>11160</td>\n",
       "      <td>Pave</td>\n",
       "      <td>NaN</td>\n",
       "      <td>Reg</td>\n",
       "      <td>Lvl</td>\n",
       "      <td>...</td>\n",
       "      <td>0</td>\n",
       "      <td>NaN</td>\n",
       "      <td>NaN</td>\n",
       "      <td>NaN</td>\n",
       "      <td>0</td>\n",
       "      <td>4</td>\n",
       "      <td>2010</td>\n",
       "      <td>WD</td>\n",
       "      <td>Normal</td>\n",
       "      <td>244000</td>\n",
       "    </tr>\n",
       "    <tr>\n",
       "      <th>4</th>\n",
       "      <td>5</td>\n",
       "      <td>527105010</td>\n",
       "      <td>60</td>\n",
       "      <td>RL</td>\n",
       "      <td>74.0</td>\n",
       "      <td>13830</td>\n",
       "      <td>Pave</td>\n",
       "      <td>NaN</td>\n",
       "      <td>IR1</td>\n",
       "      <td>Lvl</td>\n",
       "      <td>...</td>\n",
       "      <td>0</td>\n",
       "      <td>NaN</td>\n",
       "      <td>MnPrv</td>\n",
       "      <td>NaN</td>\n",
       "      <td>0</td>\n",
       "      <td>3</td>\n",
       "      <td>2010</td>\n",
       "      <td>WD</td>\n",
       "      <td>Normal</td>\n",
       "      <td>189900</td>\n",
       "    </tr>\n",
       "    <tr>\n",
       "      <th>...</th>\n",
       "      <td>...</td>\n",
       "      <td>...</td>\n",
       "      <td>...</td>\n",
       "      <td>...</td>\n",
       "      <td>...</td>\n",
       "      <td>...</td>\n",
       "      <td>...</td>\n",
       "      <td>...</td>\n",
       "      <td>...</td>\n",
       "      <td>...</td>\n",
       "      <td>...</td>\n",
       "      <td>...</td>\n",
       "      <td>...</td>\n",
       "      <td>...</td>\n",
       "      <td>...</td>\n",
       "      <td>...</td>\n",
       "      <td>...</td>\n",
       "      <td>...</td>\n",
       "      <td>...</td>\n",
       "      <td>...</td>\n",
       "      <td>...</td>\n",
       "    </tr>\n",
       "    <tr>\n",
       "      <th>2925</th>\n",
       "      <td>2926</td>\n",
       "      <td>923275080</td>\n",
       "      <td>80</td>\n",
       "      <td>RL</td>\n",
       "      <td>37.0</td>\n",
       "      <td>7937</td>\n",
       "      <td>Pave</td>\n",
       "      <td>NaN</td>\n",
       "      <td>IR1</td>\n",
       "      <td>Lvl</td>\n",
       "      <td>...</td>\n",
       "      <td>0</td>\n",
       "      <td>NaN</td>\n",
       "      <td>GdPrv</td>\n",
       "      <td>NaN</td>\n",
       "      <td>0</td>\n",
       "      <td>3</td>\n",
       "      <td>2006</td>\n",
       "      <td>WD</td>\n",
       "      <td>Normal</td>\n",
       "      <td>142500</td>\n",
       "    </tr>\n",
       "    <tr>\n",
       "      <th>2926</th>\n",
       "      <td>2927</td>\n",
       "      <td>923276100</td>\n",
       "      <td>20</td>\n",
       "      <td>RL</td>\n",
       "      <td>NaN</td>\n",
       "      <td>8885</td>\n",
       "      <td>Pave</td>\n",
       "      <td>NaN</td>\n",
       "      <td>IR1</td>\n",
       "      <td>Low</td>\n",
       "      <td>...</td>\n",
       "      <td>0</td>\n",
       "      <td>NaN</td>\n",
       "      <td>MnPrv</td>\n",
       "      <td>NaN</td>\n",
       "      <td>0</td>\n",
       "      <td>6</td>\n",
       "      <td>2006</td>\n",
       "      <td>WD</td>\n",
       "      <td>Normal</td>\n",
       "      <td>131000</td>\n",
       "    </tr>\n",
       "    <tr>\n",
       "      <th>2927</th>\n",
       "      <td>2928</td>\n",
       "      <td>923400125</td>\n",
       "      <td>85</td>\n",
       "      <td>RL</td>\n",
       "      <td>62.0</td>\n",
       "      <td>10441</td>\n",
       "      <td>Pave</td>\n",
       "      <td>NaN</td>\n",
       "      <td>Reg</td>\n",
       "      <td>Lvl</td>\n",
       "      <td>...</td>\n",
       "      <td>0</td>\n",
       "      <td>NaN</td>\n",
       "      <td>MnPrv</td>\n",
       "      <td>Shed</td>\n",
       "      <td>700</td>\n",
       "      <td>7</td>\n",
       "      <td>2006</td>\n",
       "      <td>WD</td>\n",
       "      <td>Normal</td>\n",
       "      <td>132000</td>\n",
       "    </tr>\n",
       "    <tr>\n",
       "      <th>2928</th>\n",
       "      <td>2929</td>\n",
       "      <td>924100070</td>\n",
       "      <td>20</td>\n",
       "      <td>RL</td>\n",
       "      <td>77.0</td>\n",
       "      <td>10010</td>\n",
       "      <td>Pave</td>\n",
       "      <td>NaN</td>\n",
       "      <td>Reg</td>\n",
       "      <td>Lvl</td>\n",
       "      <td>...</td>\n",
       "      <td>0</td>\n",
       "      <td>NaN</td>\n",
       "      <td>NaN</td>\n",
       "      <td>NaN</td>\n",
       "      <td>0</td>\n",
       "      <td>4</td>\n",
       "      <td>2006</td>\n",
       "      <td>WD</td>\n",
       "      <td>Normal</td>\n",
       "      <td>170000</td>\n",
       "    </tr>\n",
       "    <tr>\n",
       "      <th>2929</th>\n",
       "      <td>2930</td>\n",
       "      <td>924151050</td>\n",
       "      <td>60</td>\n",
       "      <td>RL</td>\n",
       "      <td>74.0</td>\n",
       "      <td>9627</td>\n",
       "      <td>Pave</td>\n",
       "      <td>NaN</td>\n",
       "      <td>Reg</td>\n",
       "      <td>Lvl</td>\n",
       "      <td>...</td>\n",
       "      <td>0</td>\n",
       "      <td>NaN</td>\n",
       "      <td>NaN</td>\n",
       "      <td>NaN</td>\n",
       "      <td>0</td>\n",
       "      <td>11</td>\n",
       "      <td>2006</td>\n",
       "      <td>WD</td>\n",
       "      <td>Normal</td>\n",
       "      <td>188000</td>\n",
       "    </tr>\n",
       "  </tbody>\n",
       "</table>\n",
       "<p>2930 rows × 82 columns</p>\n",
       "</div>"
      ],
      "text/plain": [
       "      Order        PID  MS SubClass MS Zoning  Lot Frontage  Lot Area Street  \\\n",
       "0         1  526301100           20        RL         141.0     31770   Pave   \n",
       "1         2  526350040           20        RH          80.0     11622   Pave   \n",
       "2         3  526351010           20        RL          81.0     14267   Pave   \n",
       "3         4  526353030           20        RL          93.0     11160   Pave   \n",
       "4         5  527105010           60        RL          74.0     13830   Pave   \n",
       "...     ...        ...          ...       ...           ...       ...    ...   \n",
       "2925   2926  923275080           80        RL          37.0      7937   Pave   \n",
       "2926   2927  923276100           20        RL           NaN      8885   Pave   \n",
       "2927   2928  923400125           85        RL          62.0     10441   Pave   \n",
       "2928   2929  924100070           20        RL          77.0     10010   Pave   \n",
       "2929   2930  924151050           60        RL          74.0      9627   Pave   \n",
       "\n",
       "     Alley Lot Shape Land Contour  ... Pool Area Pool QC  Fence Misc Feature  \\\n",
       "0      NaN       IR1          Lvl  ...         0     NaN    NaN          NaN   \n",
       "1      NaN       Reg          Lvl  ...         0     NaN  MnPrv          NaN   \n",
       "2      NaN       IR1          Lvl  ...         0     NaN    NaN         Gar2   \n",
       "3      NaN       Reg          Lvl  ...         0     NaN    NaN          NaN   \n",
       "4      NaN       IR1          Lvl  ...         0     NaN  MnPrv          NaN   \n",
       "...    ...       ...          ...  ...       ...     ...    ...          ...   \n",
       "2925   NaN       IR1          Lvl  ...         0     NaN  GdPrv          NaN   \n",
       "2926   NaN       IR1          Low  ...         0     NaN  MnPrv          NaN   \n",
       "2927   NaN       Reg          Lvl  ...         0     NaN  MnPrv         Shed   \n",
       "2928   NaN       Reg          Lvl  ...         0     NaN    NaN          NaN   \n",
       "2929   NaN       Reg          Lvl  ...         0     NaN    NaN          NaN   \n",
       "\n",
       "     Misc Val Mo Sold Yr Sold Sale Type  Sale Condition  SalePrice  \n",
       "0           0       5    2010        WD          Normal     215000  \n",
       "1           0       6    2010        WD          Normal     105000  \n",
       "2       12500       6    2010        WD          Normal     172000  \n",
       "3           0       4    2010        WD          Normal     244000  \n",
       "4           0       3    2010        WD          Normal     189900  \n",
       "...       ...     ...     ...       ...             ...        ...  \n",
       "2925        0       3    2006        WD          Normal     142500  \n",
       "2926        0       6    2006        WD          Normal     131000  \n",
       "2927      700       7    2006        WD          Normal     132000  \n",
       "2928        0       4    2006        WD          Normal     170000  \n",
       "2929        0      11    2006        WD          Normal     188000  \n",
       "\n",
       "[2930 rows x 82 columns]"
      ]
     },
     "execution_count": 42,
     "metadata": {},
     "output_type": "execute_result"
    }
   ],
   "source": [
    "df = pd.read_csv(\"AmesHousing.csv\",index_col=\"Order\")\n",
    "df"
   ]
  },
  {
   "cell_type": "code",
   "execution_count": 49,
   "metadata": {},
   "outputs": [],
   "source": [
    "df_train = df.loc[:2344].copy()\n",
    "df_test = df.loc[2345:].copy()"
   ]
  },
  {
   "cell_type": "code",
   "execution_count": 50,
   "metadata": {},
   "outputs": [
    {
     "data": {
      "text/plain": [
       "<AxesSubplot:xlabel='Gr Liv Area', ylabel='SalePrice'>"
      ]
     },
     "execution_count": 50,
     "metadata": {},
     "output_type": "execute_result"
    },
    {
     "data": {
      "image/png": "[encoded data removed]",
      "text/plain": [
       "<Figure size 432x288 with 1 Axes>"
      ]
     },
     "metadata": {
      "needs_background": "light"
     },
     "output_type": "display_data"
    }
   ],
   "source": [
    "df.plot.scatter(x=\"Gr Liv Area\", y=\"SalePrice\")"
   ]
  },
  {
   "cell_type": "code",
   "execution_count": 51,
   "metadata": {},
   "outputs": [
    {
     "data": {
      "text/plain": [
       "array([189662.09384091, 137742.13464246, 222442.06808061, 220792.06937727,\n",
       "       201982.08415919, 322761.98924371, 187242.09574268, 135652.1362849 ,\n",
       "       271502.0295266 , 222772.06782128, 134662.13706289, 199562.08606095,\n",
       "       160512.11674856, 137852.13455602, 137082.13516113, 111562.15521613,\n",
       "       110902.15573479, 112662.15435169, 172612.10723972, 136642.1355069 ,\n",
       "       166672.1119077 , 125092.14458352, 129822.14086643, 150502.12461496,\n",
       "       150502.12461496, 120802.14795483, 136642.1355069 , 125092.14458352,\n",
       "       134112.13749511, 169092.11000593, 115522.15210414, 132572.13870533,\n",
       "       176682.1040413 , 234322.05874466, 301312.00610029, 302082.00549518,\n",
       "       194502.09003738, 244882.05044604, 207922.07949121, 222002.06842638,\n",
       "       220022.06998238, 277882.02451285, 286242.01794311, 259182.03920832,\n",
       "       247302.04854427, 246532.04914938, 272162.02900794, 264352.03514546,\n",
       "       279312.02338908, 275902.02606884, 230362.06185664, 233222.0596091 ,\n",
       "       213642.07499613, 212322.07603345, 213642.07499613, 316601.99408457,\n",
       "       225962.0653144 , 227062.06444996, 166562.11199414, 188672.09461891,\n",
       "       167002.11164837, 167002.11164837, 201982.08415919, 199782.08588807,\n",
       "       171072.10844994, 161282.11614345, 176682.1040413 , 180642.10092932,\n",
       "       181082.10058354, 221452.0688586 , 162382.11527901, 176682.1040413 ,\n",
       "       277552.02477218, 180642.10092932, 166562.11199414, 187792.09531046,\n",
       "       176682.1040413 , 182732.09928688, 172062.10767194, 186802.09608845,\n",
       "       153802.12202164, 142142.1311847 , 182182.0997191 , 188892.09444602,\n",
       "       181522.10023776, 218702.0710197 , 182512.09945977, 172062.10767194,\n",
       "       192302.09176625, 229482.06254819, 182512.09945977, 199562.08606095,\n",
       "       224312.06661106, 223982.06687039, 200332.08545585, 271942.02918082,\n",
       "       268532.03186059, 279642.02312975, 233882.05909044, 262262.03678789,\n",
       "       415491.91637145, 330571.98310619, 228162.06358552, 265452.03428102,\n",
       "       316381.99425746, 401521.92734983, 290862.01431246, 294382.01154626,\n",
       "       324411.98794705, 232562.06012776, 200222.08554229, 247192.04863072,\n",
       "       199122.08640673, 194282.09021026, 181962.09989199, 157102.11942832,\n",
       "       306922.00169164, 180312.10118865, 229812.06228886, 187352.09565623,\n",
       "       205282.08156587, 189882.09366802, 155342.12081143, 155782.12046565,\n",
       "       159632.11744011, 142142.1311847 , 170522.10888216, 140932.13213559,\n",
       "       142032.13127115, 143902.1298016 , 201982.08415919, 190872.09289003,\n",
       "       218592.07110615, 192852.09133404, 206932.08026921, 170302.10905505,\n",
       "       150392.12470141, 161722.11579768, 132682.13861888, 122672.14648528,\n",
       "       125202.14449707, 206602.08052854, 198462.08692539, 149732.12522007,\n",
       "       149842.12513363, 124762.14484285, 116512.15132615, 118272.14994304,\n",
       "       129162.14138509, 119372.1490786 , 116842.15106681, 152482.12305897,\n",
       "       120032.14855994, 307582.00117298, 282392.02096865, 327381.98561307,\n",
       "       293722.01206492, 268972.03151481, 195162.08951871, 142252.13109826,\n",
       "       153692.12210809, 148522.12617095, 151052.12418274, 151052.12418274,\n",
       "       148522.12617095, 184162.09816311, 176242.10438707, 168542.11043815,\n",
       "       135322.13654423, 202862.08346763, 189002.09435957, 180862.10075643,\n",
       "       149402.1254794 , 152372.12314541, 130482.14034776, 151382.12392341,\n",
       "       151382.12392341, 219142.07067393, 147752.12677606, 227722.0639313 ,\n",
       "       253682.04353052, 172282.10749906, 308462.00048143, 213422.07516901,\n",
       "       163262.11458746, 144562.12928294, 124322.14518863, 132132.1390511 ,\n",
       "       211222.07689789, 123882.1455344 , 132242.13896466, 115302.15227703,\n",
       "       132132.1390511 , 142032.13127115, 148522.12617095, 235752.05762089,\n",
       "       132022.13913755, 111562.15521613, 204842.08191164, 188672.09461891,\n",
       "       154132.12176231, 180202.10127509, 174922.1054244 , 136972.13524757,\n",
       "       132352.13887822, 153802.12202164, 106282.15936544, 127402.14276819,\n",
       "       131252.13974266, 151822.12357763, 112112.15478391,  98692.16533007,\n",
       "       154242.12167587, 174152.10602951, 195162.08951871, 150282.12478785,\n",
       "       251482.0452594 , 190102.09349513, 206602.08052854, 119482.14899216,\n",
       "       190762.09297647, 153582.12219453, 152372.12314541, 253792.04344408,\n",
       "       140602.13239492, 358841.96089009, 127402.14276819, 147422.12703539,\n",
       "       142362.13101181, 166562.11199414, 168652.11035171, 163482.11441457,\n",
       "       167222.11147548, 136642.1355069 , 140162.13274069, 152482.12305897,\n",
       "       120252.14838705, 132022.13913755, 167772.11104326, 127402.14276819,\n",
       "       189772.09375447, 142472.13092537, 127072.14302753, 132682.13861888,\n",
       "       113762.15348725, 240812.05364447, 168762.11026526, 306922.00169164,\n",
       "       160842.11648923, 160622.11666212,  94952.16826916, 108152.15789589,\n",
       "       134552.13714934,  95172.16809628,  95722.16766406, 140822.13222203,\n",
       "       191972.09202559, 210122.07776233, 150062.12496074, 282062.02122798,\n",
       "       177782.10317686, 162162.1154519 , 135982.13602556, 142582.13083893,\n",
       "       207262.08000988, 149292.12556585, 116842.15106681, 147862.12668962,\n",
       "       111562.15521613, 106282.15936544, 211552.07663856, 178442.10265819,\n",
       "       285802.01828889, 192522.09159337, 183832.09842244, 147642.1268625 ,\n",
       "       130922.14000199, 130922.14000199, 130922.14000199, 130922.14000199,\n",
       "       130922.14000199, 130922.14000199, 187682.0953969 , 143022.13049315,\n",
       "       143022.13049315, 164802.11337725, 126412.14354619, 131472.13956977,\n",
       "       111562.15521613, 129272.14129865, 238062.05580557, 162602.11510613,\n",
       "       200002.08571518, 198792.08666606, 172282.10749906, 197032.08804916,\n",
       "       173602.10646173, 126962.14311397, 105952.15962477, 231132.06125154,\n",
       "       130042.14069354, 109362.156945  , 209022.07862677, 111562.15521613,\n",
       "       139502.13325936, 167882.11095682, 122122.1469175 , 188782.09453246,\n",
       "        70642.18737328, 146542.12772694, 144452.12936938, 108922.15729078,\n",
       "       228602.06323975, 211662.07655212, 211002.07707078, 247962.04802561,\n",
       "       174922.1054244 , 202422.08381341, 167002.11164837, 210342.07758944,\n",
       "       148522.12617095, 413401.91801389, 153802.12202164, 122122.1469175 ,\n",
       "       128722.14173087, 103202.16178587, 189992.09358158, 217492.07197059,\n",
       "       199562.08606095, 139502.13325936, 145882.12824561, 164362.11372302,\n",
       "       144342.12945582, 128172.14216309, 116842.15106681, 189882.09366802,\n",
       "       162162.1154519 , 137852.13455602,  84282.17665423, 131802.13931044,\n",
       "       106282.15936544, 289982.01500401, 122122.1469175 , 196372.08856783,\n",
       "        92752.16999804, 173822.10628884, 162822.11493324, 106612.1591061 ,\n",
       "       167882.11095682, 166122.11233992, 134992.13680356,  99462.16472496,\n",
       "       124762.14484285, 172942.10698039, 227832.06384485, 196922.08813561,\n",
       "       165242.11303147, 130042.14069354, 113212.15391947, 134552.13714934,\n",
       "       168542.11043815, 159082.11787233, 134002.13758156, 133562.13792733,\n",
       "       161722.11579768, 119262.14916505, 133012.13835955, 144012.12971516,\n",
       "       170522.10888216, 176902.10386841, 205832.08113365, 130922.14000199,\n",
       "       232892.05986843, 230912.06142442, 227722.0639313 , 214852.07404524,\n",
       "       212212.0761199 , 112442.15452457, 122122.1469175 , 174592.10568373,\n",
       "       217822.07171126, 126522.14345975, 268092.03220636, 105622.1598841 ,\n",
       "       114862.15262281, 203522.08294897, 176352.10430063, 165022.11320436,\n",
       "       143022.13049315, 237402.05632423, 258632.03964054, 237512.05623779,\n",
       "       420441.91248147, 188122.09505113, 180202.10127509, 132792.13853244,\n",
       "       220572.06955016, 193512.09081537, 142802.13066604, 140162.13274069,\n",
       "       176682.1040413 , 159302.11769944, 298012.0086936 , 226732.06470929,\n",
       "       174922.1054244 , 222882.06773483, 149402.1254794 , 150722.12444207,\n",
       "       158862.11804522, 194062.09038315, 181302.10041065, 232342.06030065,\n",
       "       219582.07032815, 207262.08000988, 191422.09245781, 215512.07352658,\n",
       "       194062.09038315, 192082.09193914, 227172.06436352, 190542.09314936,\n",
       "       125202.14449707, 185152.09738511, 169202.10991949, 117062.15089393,\n",
       "       137522.13481535, 181412.10032421, 173272.10672106, 125422.14432419,\n",
       "       184272.09807666, 180862.10075643, 191202.09263069, 208912.07871322,\n",
       "       212212.0761199 , 221232.06903149, 211882.07637923, 186032.09669356,\n",
       "       121462.14743617, 169202.10991949, 157542.11908255, 123332.14596662,\n",
       "       111562.15521613, 114862.15262281, 111562.15521613, 161722.11579768,\n",
       "       235312.05796666, 210342.07758944, 209572.07819455, 165902.11251281,\n",
       "       213092.07542835, 226512.06488218, 198462.08692539, 260062.03851677,\n",
       "       241912.05278003, 229812.06228886, 235972.057448  , 247192.04863072,\n",
       "       218482.07119259, 109802.15659923, 109802.15659923, 227612.06401774,\n",
       "       169422.1097466 , 230802.06151087, 203522.08294897, 207592.07975054,\n",
       "       193732.09064248, 187242.09574268, 205722.08122009, 163482.11441457,\n",
       "       181522.10023776, 176682.1040413 , 160622.11666212, 174482.10577018,\n",
       "       177782.10317686, 150722.12444207, 127842.14242242, 124322.14518863,\n",
       "       145882.12824561, 206162.08087432, 117062.15089393, 271062.02987238,\n",
       "       134442.13723578, 134442.13723578, 134442.13723578, 204512.08217097,\n",
       "       204512.08217097, 204512.08217097, 204512.08217097, 204402.08225742,\n",
       "       119482.14899216, 163702.11424169, 200112.08562873, 146762.12755406,\n",
       "       150832.12435563, 111562.15521613, 179542.10179375, 154022.12184875,\n",
       "       172062.10767194, 261822.03713367,  71302.18685462, 156552.11986054,\n",
       "       228602.06323975, 191972.09202559, 187132.09582912, 163922.1140688 ,\n",
       "       179212.10205309, 212762.07568768, 182622.09937332, 183942.098336  ,\n",
       "       196482.08848138, 214742.07413169, 177672.1032633 , 158202.11856388,\n",
       "       205392.08147942, 187022.09591557, 183392.09876822, 205392.08147942,\n",
       "       146322.12789983, 242792.05208848, 200332.08545585, 274472.02719261,\n",
       "       193512.09081537, 214632.07421813, 215732.07335369, 197692.0875305 ,\n",
       "       271172.02978593, 163482.11441457, 219362.07050104, 123882.1455344 ,\n",
       "       157872.11882322,  90442.17181337,  87032.17449313, 121132.1476955 ,\n",
       "       196702.0883085 , 163482.11441457,  96712.16688606,  69322.18841061,\n",
       "       170082.10922794, 119482.14899216, 212102.07620634, 197582.08761694,\n",
       "       195272.08943227, 199562.08606095, 180532.10101576, 126962.14311397,\n",
       "       149622.12530651, 232012.06055998, 293612.01215136, 158972.11795878,\n",
       "       198022.08727117, 204292.08234386, 141592.13161692, 163812.11415524,\n",
       "       293062.01258358, 170852.10862283, 214522.07430457, 232122.06047354,\n",
       "       239602.05459535, 218702.0710197 , 192522.09159337, 167002.11164837,\n",
       "       150282.12478785, 163592.11432813, 141922.13135759, 159962.11718078,\n",
       "       178772.10239886, 293832.01197848, 112662.15435169, 198242.08709828,\n",
       "        85822.17544401, 136642.1355069 , 166122.11233992,  85822.17544401,\n",
       "       136642.1355069 , 136642.1355069 , 136642.1355069 , 136642.1355069 ,\n",
       "       206602.08052854, 206602.08052854, 140382.13256781, 151162.1240963 ,\n",
       "       126852.14320041, 115742.15193125, 123222.14605306, 169312.10983304,\n",
       "       236522.05701578])"
      ]
     },
     "execution_count": 51,
     "metadata": {},
     "output_type": "execute_result"
    }
   ],
   "source": [
    "from sklearn.linear_model import LinearRegression\n",
    "\n",
    "X_train = df_train[[\"Gr Liv Area\"]]\n",
    "X_test = df_test[[\"Gr Liv Area\"]]\n",
    "y_train = df_train[\"SalePrice\"]\n",
    "\n",
    "model = LinearRegression()\n",
    "model.fit(X=X_train, y=y_train)\n",
    "model.predict(X=X_test)"
   ]
  },
  {
   "cell_type": "code",
   "execution_count": 52,
   "metadata": {},
   "outputs": [
    {
     "data": {
      "text/plain": [
       "<AxesSubplot:xlabel='Gr Liv Area', ylabel='SalePrice'>"
      ]
     },
     "execution_count": 52,
     "metadata": {},
     "output_type": "execute_result"
    },
    {
     "data": {
      "image/png": "[encoded data removed]",
      "text/plain": [
       "<Figure size 432x288 with 1 Axes>"
      ]
     },
     "metadata": {
      "needs_background": "light"
     },
     "output_type": "display_data"
    }
   ],
   "source": [
    "import numpy as np\n",
    "\n",
    "X_new = pd.DataFrame()\n",
    "# create a sequence of 200 evenly spaced numbers from 10 to 41\n",
    "X_new[\"Gr Liv Area\"] = np.linspace(100, 6000, num=5000)\n",
    "\n",
    "# create a Series out of the predicted values\n",
    "# (trailing underscore indicates fitted values)\n",
    "y_new_ = pd.Series(\n",
    "    model.predict(X_new), # y values in Series.plot.line()\n",
    "    index=X_new[\"Gr Liv Area\"]    # x values in Series.plot.line()\n",
    ")\n",
    "\n",
    "# plot the data, then the model\n",
    "df.plot.scatter(x=\"Gr Liv Area\", y=\"SalePrice\")\n",
    "y_new_.plot.line()"
   ]
  },
  {
   "cell_type": "markdown",
   "metadata": {
    "colab_type": "text",
    "id": "pOTgz8KAgc4s"
   },
   "source": [
    "2\\.  There is another way to graph a fitted linear regression model: extract the intercept and coefficient and draw a line with that intercept and slope. Verify that this gives the same graph as Exercise 2."
   ]
  },
  {
   "cell_type": "code",
   "execution_count": 54,
   "metadata": {},
   "outputs": [
    {
     "name": "stdout",
     "output_type": "stream",
     "text": [
      "[109.99991356]\n",
      "16522.229903710482\n"
     ]
    }
   ],
   "source": [
    "print(model.coef_)\n",
    "print(model.intercept_)"
   ]
  },
  {
   "cell_type": "code",
   "execution_count": 62,
   "metadata": {},
   "outputs": [],
   "source": [
    "import matplotlib.pyplot as plt \n",
    "import numpy as np    \n",
    "\n",
    "def abline(slope, intercept):\n",
    "    \"\"\"Plot a line from slope and intercept\"\"\"\n",
    "    axes = plt.gca()\n",
    "    x_vals = np.array(axes.get_xlim())\n",
    "    y_vals = intercept + slope * x_vals\n",
    "    plt.plot(x_vals, y_vals)"
   ]
  },
  {
   "cell_type": "code",
   "execution_count": 63,
   "metadata": {},
   "outputs": [
    {
     "data": {
      "image/png": "[encoded data removed]",
      "text/plain": [
       "<Figure size 432x288 with 1 Axes>"
      ]
     },
     "metadata": {
      "needs_background": "light"
     },
     "output_type": "display_data"
    }
   ],
   "source": [
    "df.plot.scatter(x=\"Gr Liv Area\", y=\"SalePrice\")\n",
    "abline(model.coef_, model.intercept_)"
   ]
  },
  {
   "cell_type": "markdown",
   "metadata": {
    "colab_type": "text",
    "id": "1-I-np7Ugc40"
   },
   "source": [
    " 3\\. Fit a linear regression model that predicts the price of a home using square footage, number of bedrooms (**Bedroom AbvGr**), number of full bathrooms (**Full Bath**), and number of half bathrooms (**Half Bath**). Interpret the coefficients. Then, use your fitted model to predict the price of a home that is 1500 square feet, with 3 bedrooms, 2 full baths, and 1 half bath."
   ]
  },
  {
   "cell_type": "code",
   "execution_count": 70,
   "metadata": {},
   "outputs": [],
   "source": [
    "data = {'Gr Liv Area':[1500],\n",
    "        'Bedroom AbvGr':[3],\n",
    "        'Full Bath':[2],\n",
    "        'Half Bath':[1]}\n",
    "PredictThis = pd.DataFrame(data)"
   ]
  },
  {
   "cell_type": "code",
   "execution_count": 74,
   "metadata": {},
   "outputs": [
    {
     "data": {
      "text/plain": [
       "array([198227.61382288, 144447.79874723, 231422.60305463, 201228.64394215,\n",
       "       210050.92151517, 306242.98589307, 195699.78052251, 142264.66998782,\n",
       "       283714.33998069, 259784.04463471, 112760.11995726, 179052.65180713,\n",
       "       139761.97566571, 143063.33905549, 114242.29142079,  87585.1402533 ,\n",
       "        86895.73117138,  88734.15538983, 208888.31561435, 114828.34720302,\n",
       "       146196.46043028, 132279.78651397, 107704.45335653, 129305.93792329,\n",
       "       129305.93792329, 127798.62748151, 114828.34720302, 132279.78651397,\n",
       "       168672.78583581, 147678.63189381,  91721.59474481, 167064.16464467,\n",
       "       184669.23521183, 243831.96652915, 285336.55193613, 314157.59957083,\n",
       "       231753.71683129, 285424.27192119, 186739.50500792, 260479.09524453,\n",
       "       228894.76975426, 288879.26656717, 297611.7816048 , 241329.27220704,\n",
       "       258436.00697704, 257631.69638147, 281858.72602038, 276245.74159325,\n",
       "       262356.24920553, 258794.30228229, 239695.51203764, 243728.61322946,\n",
       "       251746.58020691, 250367.76204307, 251746.58020691, 301307.86233389,\n",
       "       236145.11332836, 237294.12846489, 202568.73236343, 225663.93660768,\n",
       "       203028.33841805, 203028.33841805, 269083.11800421, 237268.98948663,\n",
       "       207279.69442321, 167537.36146357, 184669.23521183, 188805.68970334,\n",
       "       189265.29575795, 201918.05302407, 168686.3766001 , 184669.23521183,\n",
       "       260517.82498709, 188805.68970334, 202568.73236343, 224744.72449846,\n",
       "       213139.67161951, 219459.25487042, 208313.80804608, 223710.61087558,\n",
       "       189240.15677969, 177060.59633247, 218884.74730216, 255409.8378795 ,\n",
       "       218195.33822024, 199045.51518275, 190759.01543544, 179843.3716384 ,\n",
       "       200985.25015055, 239821.96176525, 190759.01543544, 208568.75005165,\n",
       "       234421.59062357, 204560.78783809, 209373.06064722, 282674.58482991,\n",
       "       251095.90086754, 292217.05199101, 244418.02231137, 274062.61283384,\n",
       "       432621.06014704, 315900.35456782, 238443.14360142, 247878.65848526,\n",
       "       301078.05930659, 418028.56791311, 274420.9081391 , 278097.75657599,\n",
       "       338981.96804777, 243039.20414754, 238774.25737808, 289336.56491329,\n",
       "       207063.4821602 , 202007.81555947, 189138.84603033, 192687.20218928,\n",
       "       348729.36441608, 187415.32332554, 240166.66630621, 195814.68203617,\n",
       "       214543.6287616 , 198457.41685019, 190848.77797083, 161792.28578093,\n",
       "       195329.9370033 , 120573.42288567, 177189.08861042, 119309.50623548,\n",
       "       120458.52137201, 122411.84710411, 211096.58335201, 199491.53047306,\n",
       "       228446.71191361, 201559.75771882, 216267.1514664 , 206475.38382763,\n",
       "       185678.20985645, 169042.62935502, 139162.32911919,  99190.19313225,\n",
       "       101832.92794627, 126328.49035505, 176857.97483376, 156972.0637354 ,\n",
       "       127570.86700454, 101373.32189166,  92755.70836769, 124110.23083065,\n",
       "       107015.04427462,  95743.14772266,  93100.41290864, 130328.50333221,\n",
       "        96432.55680458, 320356.37462203, 265573.49158782, 342084.3089164 ,\n",
       "       247892.24924956, 251555.50692215, 232443.12591321, 179720.52088836,\n",
       "       191670.27830826, 184770.54596119, 187413.2807752 , 187413.2807752 ,\n",
       "       184770.54596119, 221998.63638475, 184209.62915722, 176166.52320151,\n",
       "       170982.36432283, 212015.79546124, 196492.54290412, 190534.85393603,\n",
       "       128156.92278676, 189245.79830759, 166380.39709065, 188211.68468471,\n",
       "       188211.68468471, 261536.04013717, 182920.57352878, 235438.51450458,\n",
       "       264054.63293207, 180073.17466571, 292805.15032357, 166559.16732511,\n",
       "       169605.58870933, 123101.25618603, 128930.45287618, 109071.72330641,\n",
       "       163215.47521522, 129970.20802695, 110232.2866569 ,  91491.7917175 ,\n",
       "       109071.72330641, 119412.85953518, 186269.90716657, 216855.24979896,\n",
       "       108956.82179276,  87585.1402533 , 183522.26262563, 196147.83836316,\n",
       "       132052.026037  , 160329.3466096 , 125297.97570974, 143643.48815166,\n",
       "       110347.18817055, 131707.32149604, 111585.96584248, 133647.05646385,\n",
       "       137668.6094417 , 130684.75608713, 117675.74606608, 133173.85964494,\n",
       "       132166.92755066, 152964.10152184, 204426.38887408, 128030.47305915,\n",
       "       232240.50441449, 169624.82100152, 187905.70988631, 125374.14748083,\n",
       "       168814.86887805, 131477.51846874, 159729.70006307, 235699.09803804,\n",
       "       147435.2381022 , 344384.38173979, 133647.05646385, 125043.03370417,\n",
       "       119757.56407613, 146081.55891663, 148264.68767603, 142864.31653434,\n",
       "       145725.30616171, 143298.7836107 , 117459.53380307, 159844.60157673,\n",
       "       126178.4580764 , 108956.82179276, 175815.91197449, 133647.05646385,\n",
       "       199841.87654192, 119872.46558979, 133302.35192289, 110691.89271151,\n",
       "       119399.26877088, 223640.08063238, 176850.02559737, 261680.43088791,\n",
       "       140106.68020667, 196364.05062617,  99751.10993622, 113539.29157458,\n",
       "       141115.65485129,  99980.91296353, 130071.51877631, 147665.04112951,\n",
       "       199594.88377275, 162066.46007869, 127800.67003184, 293699.22345454,\n",
       "       184772.58851152, 168456.5735728 , 113093.27628426, 119987.36710344,\n",
       "       188595.11896823, 128042.02127311, 122616.51115316, 125502.63975878,\n",
       "       117101.23849782, 111585.96584248, 220047.35320298, 214978.09583795,\n",
       "       325622.61195787, 201668.75254641, 164121.09656014,  96802.4003238 ,\n",
       "       137323.90490074, 137323.90490074, 107807.80665623, 165340.64193987,\n",
       "       165340.64193987, 165340.64193987, 165597.62649577, 120446.97315805,\n",
       "       120446.97315805, 144243.13469818, 103096.84459645, 108382.31422449,\n",
       "        87585.1402533 , 106084.28395143, 188706.42150431, 140899.44258828,\n",
       "       179965.95723029, 149185.94233559, 151010.77578974, 177909.2781985 ,\n",
       "       122873.49570906, 133187.45040924, 111241.26130152, 210983.72438869,\n",
       "       136404.69279152, 114803.20822476, 189387.88134984, 117101.23849782,\n",
       "       146286.22296567, 175930.81348814,  98615.68556399, 110259.46818549,\n",
       "       103873.97366343, 125169.48343179, 121940.69283554, 114343.60217015,\n",
       "       208340.98957468, 190646.15647212, 222017.86867695, 199047.55773308,\n",
       "       153768.41211741, 182493.79053066, 145495.5031344 , 162296.26310599,\n",
       "        96675.95059618, 402421.19434851, 189240.15677969,  98615.68556399,\n",
       "       135025.87462768, 108368.72346019, 169509.91948787, 227751.39614563,\n",
       "       207523.08821481, 116770.12472116, 123434.41251303, 142737.86680673,\n",
       "       121825.79132189, 104935.2688149 , 122616.51115316, 169395.01797422,\n",
       "       140439.83653367, 144562.70026088,  88605.66311188, 138243.11700997,\n",
       "       111585.96584248, 242939.93594852,  98615.68556399, 205690.30552426,\n",
       "        97453.07966316, 180636.13402001, 141129.24561559, 111930.67038344,\n",
       "       174431.45228275, 175138.05110653, 112059.16266139, 104462.07199599,\n",
       "       101373.32189166, 151700.18487166, 207536.6789791 , 176748.71484801,\n",
       "       143657.07891595, 136404.69279152, 118824.76120261, 169132.39189042,\n",
       "       148149.78616238, 194755.42943503, 111025.04903851, 110565.4429839 ,\n",
       "       139980.23047906, 125144.34445353, 109990.93541563, 122526.74861777,\n",
       "       150218.01340813, 156882.30120001, 215118.13632987, 107807.80665623,\n",
       "       153789.95211811, 151721.72487235, 207421.77746545, 223494.39861257,\n",
       "       193765.68708261, 118020.45060704, 159147.24325841, 154469.36941329,\n",
       "       228096.10068659, 162243.94259914, 279106.73122061, 110896.55676056,\n",
       "        91032.18566289, 242221.30278767, 185823.89187626, 144472.93772549,\n",
       "       120446.97315805, 275065.94595056, 239709.10280194, 217648.01218057,\n",
       "       408275.53001691, 195573.3307949 , 159283.68477276, 109761.13238833,\n",
       "       199953.17907801, 115200.23327257, 149733.26837526, 117459.53380307,\n",
       "       126090.73809134, 165469.13421782, 281889.50652654, 236949.42392393,\n",
       "       211301.24740106, 232927.87094608, 184644.09623357, 186022.91439741,\n",
       "       194525.62640773, 201778.01253216, 217965.53519293, 242809.40112023,\n",
       "       228435.16369965, 215566.19417052, 229582.13628584, 225229.46953133,\n",
       "       201778.01253216, 200755.44712324, 237409.02997854, 168585.06585075,\n",
       "       160865.12443531, 221987.08817079, 175810.27044659, 122846.31418047,\n",
       "       115747.55931224, 189610.00029891, 180061.62645175, 102062.73097358,\n",
       "       191551.77781704, 187989.8308938 , 198790.57317718, 218335.37871215,\n",
       "       221782.42412174, 231204.34824128, 221437.71958078, 193390.20203549,\n",
       "        97926.27648207, 148839.1952443 , 163630.70999937, 100925.26405101,\n",
       "        87585.1402533 ,  91032.18566289,  87585.1402533 , 169042.62935502,\n",
       "       245911.74198886, 219829.09838964, 219024.78779407, 204424.34632374,\n",
       "       221655.97439412, 207203.52265211, 206374.07307828, 271764.58256078,\n",
       "       223289.73456352, 240166.66630621, 217085.05282626, 258321.10546338,\n",
       "       227286.14856312, 144778.91252389, 144778.91252389, 237868.63603315,\n",
       "       176040.07347389, 211684.68168457, 211659.54270631, 216956.56054831,\n",
       "       202478.96982804, 194654.11868568, 215003.23481621, 169835.39173663,\n",
       "       189724.90181256, 184669.23521183, 166847.95238166, 181325.54310193,\n",
       "       157801.51330923, 158006.17735828, 103091.20306855,  99414.35463166,\n",
       "       152950.51075755, 215462.84087082, 122846.31418047, 283254.73392608,\n",
       "       141000.75333764, 169017.49037677, 141000.75333764, 212693.65632919,\n",
       "       212693.65632919, 212693.65632919, 212693.65632919, 212578.75481554,\n",
       "        95858.04923632, 170065.19476394, 151610.42233627,  65321.42813322,\n",
       "        99088.8823829 , 117101.23849782, 186611.01272997, 132982.78636019,\n",
       "       150780.97276244, 185508.41141423, 104563.38274535, 134579.85933737,\n",
       "       178824.89133016, 201094.24497814, 194539.21717202, 142278.26075212,\n",
       "       158249.57114988, 164824.09640636, 161811.51807312, 161690.97503157,\n",
       "       147818.67238572, 166892.32365211, 184657.68699787, 106787.28379764,\n",
       "       185596.13139929, 167453.24045608, 162615.82866869, 216157.89148064,\n",
       "       153410.11681216, 225708.30787814, 178811.30056586, 257300.5826048 ,\n",
       "       174232.4297616 , 196293.52038298, 225912.97192718, 205569.76248271,\n",
       "       252807.87535838, 171334.75294202, 228205.36067234, 129970.20802695,\n",
       "       135958.6775012 ,  95040.14787645,  91478.20095321, 127097.67018563,\n",
       "       175019.55061531, 142864.31653434, 101589.53415467,  74478.41846047,\n",
       "       147213.38431129, 125374.14748083, 250137.95901576, 234970.95921357,\n",
       "       203041.92918234, 178006.98997029, 187645.12635284, 133187.45040924,\n",
       "       155357.80101636, 210403.57529253, 277293.44598042, 194640.52792138,\n",
       "       207413.82822906, 243025.61338324, 176486.08876421, 199696.19452211,\n",
       "       276718.93841216, 207049.8913959 , 223149.69407161, 241533.93625609,\n",
       "       278863.33742901, 227515.95159043, 173198.31613873, 203028.33841805,\n",
       "       185563.30834279, 199466.3914948 , 119297.95802152, 139187.46809745,\n",
       "       156290.60388988, 248007.15076321,  88734.15538983, 176628.17180645,\n",
       "       119730.38254754, 114828.34720302, 144576.29102518, 119730.38254754,\n",
       "       114828.34720302, 114828.34720302, 114828.34720302, 114828.34720302,\n",
       "       185360.68684408, 185360.68684408, 145706.07386951,  99433.58692385,\n",
       "       103556.45065107, 121467.49601663,  99764.70070052, 177424.53316563,\n",
       "       247175.65863905])"
      ]
     },
     "execution_count": 74,
     "metadata": {},
     "output_type": "execute_result"
    }
   ],
   "source": [
    "X_train = df_train[[\"Gr Liv Area\",\"Bedroom AbvGr\",\"Full Bath\",\"Half Bath\"]]\n",
    "X_test = df_test[[\"Gr Liv Area\",\"Bedroom AbvGr\",\"Full Bath\",\"Half Bath\"]]\n",
    "y_train = df_train[\"SalePrice\"]\n",
    "\n",
    "model = LinearRegression()\n",
    "model.fit(X=X_train, y=y_train)\n",
    "model.predict(X=X_test)"
   ]
  },
  {
   "cell_type": "code",
   "execution_count": 75,
   "metadata": {},
   "outputs": [
    {
     "data": {
      "text/plain": [
       "array([189724.90181256])"
      ]
     },
     "execution_count": 75,
     "metadata": {},
     "output_type": "execute_result"
    }
   ],
   "source": [
    "model.predict(X=PredictThis)"
   ]
  },
  {
   "cell_type": "code",
   "execution_count": 76,
   "metadata": {},
   "outputs": [
    {
     "name": "stdout",
     "output_type": "stream",
     "text": [
      "[   114.90151365 -29516.09824452  28016.73703913   1045.66183684]\n",
      "48841.79015155896\n"
     ]
    }
   ],
   "source": [
    "print(model.coef_)\n",
    "print(model.intercept_)"
   ]
  },
  {
   "cell_type": "markdown",
   "metadata": {
    "colab_type": "text",
    "id": "Vjy1aIPXgc42"
   },
   "source": [
    "_Exercises 4-5 ask you to fit linear regression models to the tips data (tips.csv ), which contains information about tips collected by a waiter._"
   ]
  },
  {
   "cell_type": "markdown",
   "metadata": {
    "colab_type": "text",
    "id": "GBoWHzLbgc45"
   },
   "source": [
    "    4\\. Suppose you want to predict how much a male diner will tip on a Sunday bill of \\$40.00. Fit a linear regression model to the tips data to answer this question. (Hint: You will need to convert categorical variables to quantitative variables. asZaqAZ)"
   ]
  },
  {
   "cell_type": "code",
   "execution_count": 79,
   "metadata": {
    "tags": []
   },
   "outputs": [
    {
     "data": {
      "text/html": [
       "<div>\n",
       "<style scoped>\n",
       "    .dataframe tbody tr th:only-of-type {\n",
       "        vertical-align: middle;\n",
       "    }\n",
       "\n",
       "    .dataframe tbody tr th {\n",
       "        vertical-align: top;\n",
       "    }\n",
       "\n",
       "    .dataframe thead th {\n",
       "        text-align: right;\n",
       "    }\n",
       "</style>\n",
       "<table border=\"1\" class=\"dataframe\">\n",
       "  <thead>\n",
       "    <tr style=\"text-align: right;\">\n",
       "      <th></th>\n",
       "      <th>obs</th>\n",
       "      <th>totbill</th>\n",
       "      <th>tip</th>\n",
       "      <th>sex</th>\n",
       "      <th>smoker</th>\n",
       "      <th>day</th>\n",
       "      <th>time</th>\n",
       "      <th>size</th>\n",
       "    </tr>\n",
       "  </thead>\n",
       "  <tbody>\n",
       "    <tr>\n",
       "      <th>0</th>\n",
       "      <td>1</td>\n",
       "      <td>16.99</td>\n",
       "      <td>1.01</td>\n",
       "      <td>F</td>\n",
       "      <td>No</td>\n",
       "      <td>Sun</td>\n",
       "      <td>Night</td>\n",
       "      <td>2</td>\n",
       "    </tr>\n",
       "    <tr>\n",
       "      <th>1</th>\n",
       "      <td>2</td>\n",
       "      <td>10.34</td>\n",
       "      <td>1.66</td>\n",
       "      <td>M</td>\n",
       "      <td>No</td>\n",
       "      <td>Sun</td>\n",
       "      <td>Night</td>\n",
       "      <td>3</td>\n",
       "    </tr>\n",
       "    <tr>\n",
       "      <th>2</th>\n",
       "      <td>3</td>\n",
       "      <td>21.01</td>\n",
       "      <td>3.50</td>\n",
       "      <td>M</td>\n",
       "      <td>No</td>\n",
       "      <td>Sun</td>\n",
       "      <td>Night</td>\n",
       "      <td>3</td>\n",
       "    </tr>\n",
       "    <tr>\n",
       "      <th>3</th>\n",
       "      <td>4</td>\n",
       "      <td>23.68</td>\n",
       "      <td>3.31</td>\n",
       "      <td>M</td>\n",
       "      <td>No</td>\n",
       "      <td>Sun</td>\n",
       "      <td>Night</td>\n",
       "      <td>2</td>\n",
       "    </tr>\n",
       "    <tr>\n",
       "      <th>4</th>\n",
       "      <td>5</td>\n",
       "      <td>24.59</td>\n",
       "      <td>3.61</td>\n",
       "      <td>F</td>\n",
       "      <td>No</td>\n",
       "      <td>Sun</td>\n",
       "      <td>Night</td>\n",
       "      <td>4</td>\n",
       "    </tr>\n",
       "    <tr>\n",
       "      <th>...</th>\n",
       "      <td>...</td>\n",
       "      <td>...</td>\n",
       "      <td>...</td>\n",
       "      <td>...</td>\n",
       "      <td>...</td>\n",
       "      <td>...</td>\n",
       "      <td>...</td>\n",
       "      <td>...</td>\n",
       "    </tr>\n",
       "    <tr>\n",
       "      <th>239</th>\n",
       "      <td>240</td>\n",
       "      <td>29.03</td>\n",
       "      <td>5.92</td>\n",
       "      <td>M</td>\n",
       "      <td>No</td>\n",
       "      <td>Sat</td>\n",
       "      <td>Night</td>\n",
       "      <td>3</td>\n",
       "    </tr>\n",
       "    <tr>\n",
       "      <th>240</th>\n",
       "      <td>241</td>\n",
       "      <td>27.18</td>\n",
       "      <td>2.00</td>\n",
       "      <td>F</td>\n",
       "      <td>Yes</td>\n",
       "      <td>Sat</td>\n",
       "      <td>Night</td>\n",
       "      <td>2</td>\n",
       "    </tr>\n",
       "    <tr>\n",
       "      <th>241</th>\n",
       "      <td>242</td>\n",
       "      <td>22.67</td>\n",
       "      <td>2.00</td>\n",
       "      <td>M</td>\n",
       "      <td>Yes</td>\n",
       "      <td>Sat</td>\n",
       "      <td>Night</td>\n",
       "      <td>2</td>\n",
       "    </tr>\n",
       "    <tr>\n",
       "      <th>242</th>\n",
       "      <td>243</td>\n",
       "      <td>17.82</td>\n",
       "      <td>1.75</td>\n",
       "      <td>M</td>\n",
       "      <td>No</td>\n",
       "      <td>Sat</td>\n",
       "      <td>Night</td>\n",
       "      <td>2</td>\n",
       "    </tr>\n",
       "    <tr>\n",
       "      <th>243</th>\n",
       "      <td>244</td>\n",
       "      <td>18.78</td>\n",
       "      <td>3.00</td>\n",
       "      <td>F</td>\n",
       "      <td>No</td>\n",
       "      <td>Thu</td>\n",
       "      <td>Night</td>\n",
       "      <td>2</td>\n",
       "    </tr>\n",
       "  </tbody>\n",
       "</table>\n",
       "<p>244 rows × 8 columns</p>\n",
       "</div>"
      ],
      "text/plain": [
       "     obs  totbill   tip sex smoker  day   time  size\n",
       "0      1    16.99  1.01   F     No  Sun  Night     2\n",
       "1      2    10.34  1.66   M     No  Sun  Night     3\n",
       "2      3    21.01  3.50   M     No  Sun  Night     3\n",
       "3      4    23.68  3.31   M     No  Sun  Night     2\n",
       "4      5    24.59  3.61   F     No  Sun  Night     4\n",
       "..   ...      ...   ...  ..    ...  ...    ...   ...\n",
       "239  240    29.03  5.92   M     No  Sat  Night     3\n",
       "240  241    27.18  2.00   F    Yes  Sat  Night     2\n",
       "241  242    22.67  2.00   M    Yes  Sat  Night     2\n",
       "242  243    17.82  1.75   M     No  Sat  Night     2\n",
       "243  244    18.78  3.00   F     No  Thu  Night     2\n",
       "\n",
       "[244 rows x 8 columns]"
      ]
     },
     "execution_count": 79,
     "metadata": {},
     "output_type": "execute_result"
    }
   ],
   "source": [
    "tip_df = pd.read_csv(\"tips.csv\")\n",
    "tip_df"
   ]
  },
  {
   "cell_type": "code",
   "execution_count": 83,
   "metadata": {},
   "outputs": [
    {
     "data": {
      "text/html": [
       "<div>\n",
       "<style scoped>\n",
       "    .dataframe tbody tr th:only-of-type {\n",
       "        vertical-align: middle;\n",
       "    }\n",
       "\n",
       "    .dataframe tbody tr th {\n",
       "        vertical-align: top;\n",
       "    }\n",
       "\n",
       "    .dataframe thead th {\n",
       "        text-align: right;\n",
       "    }\n",
       "</style>\n",
       "<table border=\"1\" class=\"dataframe\">\n",
       "  <thead>\n",
       "    <tr style=\"text-align: right;\">\n",
       "      <th></th>\n",
       "      <th>obs</th>\n",
       "      <th>totbill</th>\n",
       "      <th>tip</th>\n",
       "      <th>sex</th>\n",
       "      <th>smoker</th>\n",
       "      <th>day</th>\n",
       "      <th>time</th>\n",
       "      <th>size</th>\n",
       "    </tr>\n",
       "  </thead>\n",
       "  <tbody>\n",
       "    <tr>\n",
       "      <th>0</th>\n",
       "      <td>1</td>\n",
       "      <td>16.99</td>\n",
       "      <td>1.01</td>\n",
       "      <td>2</td>\n",
       "      <td>No</td>\n",
       "      <td>7</td>\n",
       "      <td>Night</td>\n",
       "      <td>2</td>\n",
       "    </tr>\n",
       "    <tr>\n",
       "      <th>1</th>\n",
       "      <td>2</td>\n",
       "      <td>10.34</td>\n",
       "      <td>1.66</td>\n",
       "      <td>1</td>\n",
       "      <td>No</td>\n",
       "      <td>7</td>\n",
       "      <td>Night</td>\n",
       "      <td>3</td>\n",
       "    </tr>\n",
       "    <tr>\n",
       "      <th>2</th>\n",
       "      <td>3</td>\n",
       "      <td>21.01</td>\n",
       "      <td>3.50</td>\n",
       "      <td>1</td>\n",
       "      <td>No</td>\n",
       "      <td>7</td>\n",
       "      <td>Night</td>\n",
       "      <td>3</td>\n",
       "    </tr>\n",
       "    <tr>\n",
       "      <th>3</th>\n",
       "      <td>4</td>\n",
       "      <td>23.68</td>\n",
       "      <td>3.31</td>\n",
       "      <td>1</td>\n",
       "      <td>No</td>\n",
       "      <td>7</td>\n",
       "      <td>Night</td>\n",
       "      <td>2</td>\n",
       "    </tr>\n",
       "    <tr>\n",
       "      <th>4</th>\n",
       "      <td>5</td>\n",
       "      <td>24.59</td>\n",
       "      <td>3.61</td>\n",
       "      <td>2</td>\n",
       "      <td>No</td>\n",
       "      <td>7</td>\n",
       "      <td>Night</td>\n",
       "      <td>4</td>\n",
       "    </tr>\n",
       "    <tr>\n",
       "      <th>...</th>\n",
       "      <td>...</td>\n",
       "      <td>...</td>\n",
       "      <td>...</td>\n",
       "      <td>...</td>\n",
       "      <td>...</td>\n",
       "      <td>...</td>\n",
       "      <td>...</td>\n",
       "      <td>...</td>\n",
       "    </tr>\n",
       "    <tr>\n",
       "      <th>239</th>\n",
       "      <td>240</td>\n",
       "      <td>29.03</td>\n",
       "      <td>5.92</td>\n",
       "      <td>1</td>\n",
       "      <td>No</td>\n",
       "      <td>6</td>\n",
       "      <td>Night</td>\n",
       "      <td>3</td>\n",
       "    </tr>\n",
       "    <tr>\n",
       "      <th>240</th>\n",
       "      <td>241</td>\n",
       "      <td>27.18</td>\n",
       "      <td>2.00</td>\n",
       "      <td>2</td>\n",
       "      <td>Yes</td>\n",
       "      <td>6</td>\n",
       "      <td>Night</td>\n",
       "      <td>2</td>\n",
       "    </tr>\n",
       "    <tr>\n",
       "      <th>241</th>\n",
       "      <td>242</td>\n",
       "      <td>22.67</td>\n",
       "      <td>2.00</td>\n",
       "      <td>1</td>\n",
       "      <td>Yes</td>\n",
       "      <td>6</td>\n",
       "      <td>Night</td>\n",
       "      <td>2</td>\n",
       "    </tr>\n",
       "    <tr>\n",
       "      <th>242</th>\n",
       "      <td>243</td>\n",
       "      <td>17.82</td>\n",
       "      <td>1.75</td>\n",
       "      <td>1</td>\n",
       "      <td>No</td>\n",
       "      <td>6</td>\n",
       "      <td>Night</td>\n",
       "      <td>2</td>\n",
       "    </tr>\n",
       "    <tr>\n",
       "      <th>243</th>\n",
       "      <td>244</td>\n",
       "      <td>18.78</td>\n",
       "      <td>3.00</td>\n",
       "      <td>2</td>\n",
       "      <td>No</td>\n",
       "      <td>4</td>\n",
       "      <td>Night</td>\n",
       "      <td>2</td>\n",
       "    </tr>\n",
       "  </tbody>\n",
       "</table>\n",
       "<p>244 rows × 8 columns</p>\n",
       "</div>"
      ],
      "text/plain": [
       "     obs  totbill   tip  sex smoker  day   time  size\n",
       "0      1    16.99  1.01    2     No    7  Night     2\n",
       "1      2    10.34  1.66    1     No    7  Night     3\n",
       "2      3    21.01  3.50    1     No    7  Night     3\n",
       "3      4    23.68  3.31    1     No    7  Night     2\n",
       "4      5    24.59  3.61    2     No    7  Night     4\n",
       "..   ...      ...   ...  ...    ...  ...    ...   ...\n",
       "239  240    29.03  5.92    1     No    6  Night     3\n",
       "240  241    27.18  2.00    2    Yes    6  Night     2\n",
       "241  242    22.67  2.00    1    Yes    6  Night     2\n",
       "242  243    17.82  1.75    1     No    6  Night     2\n",
       "243  244    18.78  3.00    2     No    4  Night     2\n",
       "\n",
       "[244 rows x 8 columns]"
      ]
     },
     "execution_count": 83,
     "metadata": {},
     "output_type": "execute_result"
    }
   ],
   "source": [
    "tip_df[\"sex\"].replace(['M','F'],[1,2],inplace=True)\n",
    "tip_df[\"day\"].replace(['Thu','Fri','Sat','Sun'],[4,5,6,7],inplace=True)\n",
    "tip_df"
   ]
  },
  {
   "cell_type": "code",
   "execution_count": 93,
   "metadata": {},
   "outputs": [],
   "source": [
    "data = {'totbill':[40.00],\n",
    "        'sex':[1],\n",
    "        'day':[7]}\n",
    "PredictThis = pd.DataFrame(data)"
   ]
  },
  {
   "cell_type": "code",
   "execution_count": 94,
   "metadata": {},
   "outputs": [],
   "source": [
    "df_train = tip_df.loc[:194].copy()\n",
    "df_test = tip_df.loc[195:].copy()"
   ]
  },
  {
   "cell_type": "code",
   "execution_count": 95,
   "metadata": {},
   "outputs": [
    {
     "data": {
      "text/plain": [
       "array([1.69339073, 1.98293338, 5.40143334, 2.26541571, 2.31309531,\n",
       "       2.85468587, 2.23833618, 2.26541571, 2.61953261, 3.04424257,\n",
       "       2.62682326, 3.75480818, 5.01921383, 3.51317547, 2.31982354,\n",
       "       4.11621572, 3.68190176, 6.01907331, 2.37294107, 3.92480632,\n",
       "       2.33440482, 3.91728535, 2.19252773, 1.79154241, 4.12998582,\n",
       "       2.21219223, 2.34886172, 1.83932796, 2.61549092, 2.34342379,\n",
       "       2.64569501, 2.00203546, 3.11531471, 2.36854466, 3.29468654,\n",
       "       3.48609594, 2.61955105, 2.19461077, 2.10712306, 2.60288673,\n",
       "       2.03421664, 2.29772128, 4.40471685, 4.72261087, 4.00893913,\n",
       "       3.82169581, 3.34653222, 2.84139488, 2.86741445])"
      ]
     },
     "execution_count": 95,
     "metadata": {},
     "output_type": "execute_result"
    }
   ],
   "source": [
    "X_train = df_train[[\"totbill\",\"sex\",\"day\"]]\n",
    "X_test = df_test[[\"totbill\",\"sex\",\"day\"]]\n",
    "y_train = df_train[\"tip\"]\n",
    "\n",
    "model = LinearRegression()\n",
    "model.fit(X=X_train, y=y_train)\n",
    "model.predict(X=X_test)"
   ]
  },
  {
   "cell_type": "code",
   "execution_count": 96,
   "metadata": {},
   "outputs": [
    {
     "data": {
      "text/plain": [
       "array([5.19118906])"
      ]
     },
     "execution_count": 96,
     "metadata": {},
     "output_type": "execute_result"
    }
   ],
   "source": [
    "model.predict(X=PredictThis)"
   ]
  },
  {
   "cell_type": "markdown",
   "metadata": {
    "colab_type": "text",
    "id": "-1JP6TiPgc46"
   },
   "source": [
    "5\\. Fit a linear regression model, with no intercept, that predicts the tip from the total bill. That is, we want our predictions to be of the form \n",
    "$$ \\widehat{\\text{tip}} = c \\cdot (\\text{total bill}). $$\n",
    "where $c$ is some coefficient to be learned from the training data. \n",
    "\n",
    "(_Hint:_ `LinearRegression()` has a parameter, `fit_intercept=`, which is `True` by default.)\n",
    "    \n",
    "Plot the data and the fitted model. In practical terms, what assumption is being made when we fit a model with no intercept? "
   ]
  },
  {
   "cell_type": "code",
   "execution_count": 110,
   "metadata": {
    "colab": {},
    "colab_type": "code",
    "id": "KuepEZ5d1vDh"
   },
   "outputs": [
    {
     "data": {
      "text/plain": [
       "array([1.10073624, 1.50550433, 6.2768174 , 1.89280042, 1.96705644,\n",
       "       2.72417661, 1.85494441, 1.89280042, 2.38784053, 2.98916866,\n",
       "       2.39803253, 3.87150486, 5.63908925, 3.53371279, 1.85785641,\n",
       "       4.37673697, 3.76958484, 7.03684957, 1.93211243, 4.10155291,\n",
       "       1.87824042, 4.09864091, 1.68750438, 1.12694425, 4.38838498,\n",
       "       1.77049639, 1.95395243, 1.24924828, 2.32668852, 1.95395243,\n",
       "       2.36891253, 1.46910433, 2.97752066, 1.93356843, 3.22067272,\n",
       "       3.49585678, 2.28446451, 1.69041638, 1.56811235, 2.2611685 ,\n",
       "       1.46619233, 1.83456041, 4.78004906, 5.21684916, 4.22676894,\n",
       "       3.95740888, 3.30075273, 2.59459258, 2.73436861])"
      ]
     },
     "execution_count": 110,
     "metadata": {},
     "output_type": "execute_result"
    }
   ],
   "source": [
    "X_train = df_train[[\"totbill\"]]\n",
    "X_test = df_test[[\"totbill\"]]\n",
    "y_train = df_train[\"tip\"]\n",
    "\n",
    "model = LinearRegression(fit_intercept=False)\n",
    "model.fit(X=X_train, y=y_train)\n",
    "model.predict(X=X_test)"
   ]
  },
  {
   "cell_type": "code",
   "execution_count": 111,
   "metadata": {},
   "outputs": [
    {
     "data": {
      "text/plain": [
       "<AxesSubplot:xlabel='totbill', ylabel='tip'>"
      ]
     },
     "execution_count": 111,
     "metadata": {},
     "output_type": "execute_result"
    },
    {
     "data": {
      "image/png": "[encoded data removed]",
      "text/plain": [
       "<Figure size 432x288 with 1 Axes>"
      ]
     },
     "metadata": {
      "needs_background": "light"
     },
     "output_type": "display_data"
    }
   ],
   "source": [
    "X_new = pd.DataFrame()\n",
    "# create a sequence of 200 evenly spaced numbers from 10 to 41\n",
    "X_new[\"totbill\"] = np.linspace(0, 55, num=100)\n",
    "\n",
    "# create a Series out of the predicted values\n",
    "# (trailing underscore indicates fitted values)\n",
    "y_new_ = pd.Series(\n",
    "    model.predict(X_new), # y values in Series.plot.line()\n",
    "    index=X_new[\"totbill\"]    # x values in Series.plot.line()\n",
    ")\n",
    "\n",
    "# plot the data, then the model\n",
    "tip_df.plot.scatter(x=\"totbill\", y=\"tip\")\n",
    "y_new_.plot.line()"
   ]
  },
  {
   "cell_type": "markdown",
   "metadata": {},
   "source": [
    "With an intercept of 0 we assume our linear regression model is going to be starting at the origin"
   ]
  },
  {
   "cell_type": "code",
   "execution_count": null,
   "metadata": {},
   "outputs": [],
   "source": []
  }
 ],
 "metadata": {
  "colab": {
   "name": "Linear_Regression.ipynb",
   "provenance": []
  },
  "kernelspec": {
   "display_name": "Python 3 (ipykernel)",
   "language": "python",
   "name": "python3"
  },
  "language_info": {
   "codemirror_mode": {
    "name": "ipython",
    "version": 3
   },
   "file_extension": ".py",
   "mimetype": "text/x-python",
   "name": "python",
   "nbconvert_exporter": "python",
   "pygments_lexer": "ipython3",
   "version": "3.9.7"
  }
 },
 "nbformat": 4,
 "nbformat_minor": 4
}
